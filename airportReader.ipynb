{
 "cells": [
  {
   "cell_type": "markdown",
   "metadata": {},
   "source": [
    "## Python 2.7 "
   ]
  },
  {
   "cell_type": "markdown",
   "metadata": {},
   "source": [
    "### This file reads longitude and latitude in green taxi data, and classiy if they belong to airport related trips"
   ]
  },
  {
   "cell_type": "markdown",
   "metadata": {},
   "source": [
    "* The longitude and latitude data in green taxi data set are different from EPSG: 4326 standard\n",
    "* In order to classify trips (airport or not) successfully, projection is needed. \n",
    "* I intended to use package \"pyproj\" to implement such projection. However, pyproj is not compatible in Python3. Therefore I took a detour here in python 2.7\n",
    "* ***Need to download \"taxi_zones\" shape files at the bottom of  http://www.nyc.gov/html/tlc/html/about/trip_record_data.shtml to perfrom this classification***"
   ]
  },
  {
   "cell_type": "markdown",
   "metadata": {},
   "source": [
    "#### Projection"
   ]
  },
  {
   "cell_type": "code",
   "execution_count": 5,
   "metadata": {},
   "outputs": [],
   "source": [
    "import fiona \n",
    "import pyproj\n",
    "from functools import partial\n",
    "from shapely.ops import transform\n",
    "from shapely.geometry import Point,shape\n",
    "import pandas as pd\n",
    "import numpy as np\n",
    "\n",
    "df = pd.read_csv(\"green_tripdata_2015-09.csv\",header=0)\n",
    "# build airport geolocation dictionary\n",
    "airports = {}\n",
    "with fiona.open('taxi_zones/taxi_zones.shp') as shapes:\n",
    "    # define a projection\n",
    "    project = partial(pyproj.transform, pyproj.Proj(shapes.crs), pyproj.Proj(\"+init=EPSG:4326\"))\n",
    "    found = 0\n",
    "    for s in shapes:\n",
    "        shapeID = s['properties']['OBJECTID']\n",
    "        if shapeID == 138:\n",
    "            airports['LGA'] = transform(project,shape(s['geometry']))\n",
    "            found+=1\n",
    "        elif shapeID == 1:\n",
    "            airports['EWR'] = transform(project,shape(s['geometry']))\n",
    "            found+=1\n",
    "        elif shapeID == 132:\n",
    "            airports['JFK'] = transform(project,shape(s['geometry']))\n",
    "            found+=1\n",
    "        if found==3:\n",
    "            break"
   ]
  },
  {
   "cell_type": "markdown",
   "metadata": {},
   "source": [
    "#### Classify pickup locations"
   ]
  },
  {
   "cell_type": "code",
   "execution_count": 9,
   "metadata": {},
   "outputs": [],
   "source": [
    "\n",
    "points = [Point(lo,la) for lo, la in zip(df['Pickup_longitude'],df['Pickup_latitude'])]\n",
    "pickZone = np.empty(df.shape[0],dtype=str)\n",
    "for i,point in enumerate(points):\n",
    "    pickZone[i] = \"N\"\n",
    "    for airport,zone in airports.items():\n",
    "        if zone.contains(point):\n",
    "            pickZone[i] = airport"
   ]
  },
  {
   "cell_type": "markdown",
   "metadata": {},
   "source": [
    "#### Classify dropoff locations"
   ]
  },
  {
   "cell_type": "code",
   "execution_count": 8,
   "metadata": {},
   "outputs": [],
   "source": [
    "points = [Point(lo,la) for lo, la in zip(df['Dropoff_longitude'],df['Dropoff_latitude'])]\n",
    "dropZone = np.empty(df.shape[0],dtype=str)\n",
    "for i,point in enumerate(points):\n",
    "    dropZone[i] = \"N\"\n",
    "    for airport,zone in airports.items():\n",
    "        if zone.contains(point):\n",
    "            dropZone[i] = airport"
   ]
  },
  {
   "cell_type": "markdown",
   "metadata": {},
   "source": [
    "#### save to csv"
   ]
  },
  {
   "cell_type": "code",
   "execution_count": 23,
   "metadata": {},
   "outputs": [],
   "source": [
    "dfw = pd.DataFrame(np.array([pickZone,dropZone])).T\n",
    "dfw.to_csv(\"airportCode.csv\")"
   ]
  }
 ],
 "metadata": {
  "kernelspec": {
   "display_name": "Python 3",
   "language": "python",
   "name": "python3"
  },
  "language_info": {
   "codemirror_mode": {
    "name": "ipython",
    "version": 3
   },
   "file_extension": ".py",
   "mimetype": "text/x-python",
   "name": "python",
   "nbconvert_exporter": "python",
   "pygments_lexer": "ipython3",
   "version": "3.7.1"
  }
 },
 "nbformat": 4,
 "nbformat_minor": 2
}
