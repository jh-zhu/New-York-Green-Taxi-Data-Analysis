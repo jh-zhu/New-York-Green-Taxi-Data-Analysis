{
 "cells": [
  {
   "cell_type": "markdown",
   "metadata": {},
   "source": [
    "## Analysis of New York Green Taxis\n",
    "\n",
    "\n",
    "* Read Data: Read data either directly from url (takes longer) OR from file (need to adjust file path)\n",
    "* Map Visualization: I visualized the data using folium map in some questions. See these map visualizations in either way:\n",
    "    * Run that block of code, but you are then required to run all blocks above\n",
    "    * Just refer to the maps I submitted along with this notebook. Which maps to see are referred in corresponding blcoks\n"
   ]
  },
  {
   "cell_type": "markdown",
   "metadata": {},
   "source": [
    "## Question 1 "
   ]
  },
  {
   "cell_type": "code",
   "execution_count": 1,
   "metadata": {},
   "outputs": [
    {
     "name": "stdout",
     "output_type": "stream",
     "text": [
      "The original data has 1494926 rows and 21 columns\n",
      "The attributes are:\n",
      "['VendorID' 'lpep_pickup_datetime' 'Lpep_dropoff_datetime'\n",
      " 'Store_and_fwd_flag' 'RateCodeID' 'Pickup_longitude' 'Pickup_latitude'\n",
      " 'Dropoff_longitude' 'Dropoff_latitude' 'Passenger_count' 'Trip_distance'\n",
      " 'Fare_amount' 'Extra' 'MTA_tax' 'Tip_amount' 'Tolls_amount' 'Ehail_fee'\n",
      " 'improvement_surcharge' 'Total_amount' 'Payment_type' 'Trip_type ']\n"
     ]
    }
   ],
   "source": [
    "import pandas as pd\n",
    "import numpy as np\n",
    "# read in data\n",
    "taxiurl = \"https://s3.amazonaws.com/nyc-tlc/trip+data/green_tripdata_2015-09.csv\"\n",
    "\n",
    "#df = pd.read_csv(taxiurl,header=[0])\n",
    "df = pd.read_csv(\"green_tripdata_2015-09.csv\",header=[0])\n",
    "\n",
    "# report the orginal data dimension \n",
    "r,c = df.shape\n",
    "print(\"The original data has {} rows and {} columns\".format(r,c))\n",
    "print(\"The attributes are:\")\n",
    "print(df.columns.values)"
   ]
  },
  {
   "cell_type": "markdown",
   "metadata": {},
   "source": [
    "#### split date and time for furthur analysis"
   ]
  },
  {
   "cell_type": "code",
   "execution_count": 2,
   "metadata": {},
   "outputs": [
    {
     "name": "stdout",
     "output_type": "stream",
     "text": [
      "The data has 1494926 rows and 22 columns\n",
      "The attributes are:\n",
      "['Store_and_fwd_flag' 'RateCodeID' 'Pickup_longitude' 'Pickup_latitude'\n",
      " 'Dropoff_longitude' 'Dropoff_latitude' 'Passenger_count' 'Trip_distance'\n",
      " 'Fare_amount' 'Extra' 'MTA_tax' 'Tip_amount' 'Tolls_amount' 'Ehail_fee'\n",
      " 'improvement_surcharge' 'Total_amount' 'Payment_type' 'Trip_type '\n",
      " 'pickTime' 'pickDate' 'dropTime' 'dropDate']\n"
     ]
    }
   ],
   "source": [
    "# split date and time\n",
    "df['pickTime'] = list(map(lambda x:x.split(\" \")[1],df['lpep_pickup_datetime']))\n",
    "df['pickDate'] = list(map(lambda x:x.split(\" \")[0],df['lpep_pickup_datetime']))\n",
    "df['dropTime'] = list(map(lambda x:x.split(\" \")[1],df['Lpep_dropoff_datetime']))\n",
    "df['dropDate'] = list(map(lambda x:x.split(\" \")[0],df['Lpep_dropoff_datetime']))\n",
    "\n",
    "# I have no information on vendors' qualities, therefore no preference \n",
    "# between vendors. Drop VendorID here as well\n",
    "df.drop(['VendorID','lpep_pickup_datetime','Lpep_dropoff_datetime'],axis=1,inplace=True)\n",
    "# report new data set dimension\n",
    "r1,c1 = df.shape\n",
    "print(\"The data has {} rows and {} columns\".format(r1,c1))\n",
    "print(\"The attributes are:\")\n",
    "print(df.columns.values)"
   ]
  },
  {
   "cell_type": "markdown",
   "metadata": {},
   "source": [
    "## Question 2"
   ]
  },
  {
   "cell_type": "markdown",
   "metadata": {},
   "source": [
    "#### histogram of trip distance"
   ]
  },
  {
   "cell_type": "code",
   "execution_count": 3,
   "metadata": {},
   "outputs": [],
   "source": [
    "import matplotlib.pyplot as plt"
   ]
  },
  {
   "cell_type": "code",
   "execution_count": 4,
   "metadata": {},
   "outputs": [
    {
     "name": "stdout",
     "output_type": "stream",
     "text": [
      "The maxium distance is 603.1 miles, and the minmum distance is 0.0 miles\n",
      "There are 10 trips with distance more than 100 miles\n"
     ]
    }
   ],
   "source": [
    "# first see the value range of Trip Distances\n",
    "distances = list(df['Trip_distance'])\n",
    "distances.sort(reverse=True)\n",
    "print(\"The maxium distance is {} miles, and the minmum distance is {} miles\".format(distances[0],distances[-1]))\n",
    "# see how many trips having a distance beyond 100 miles\n",
    "N = 0\n",
    "for i,d in enumerate(distances):\n",
    "    if d <100:\n",
    "        N=i\n",
    "        break\n",
    "print(\"There are {} trips with distance more than 100 miles\".format(N))"
   ]
  },
  {
   "cell_type": "markdown",
   "metadata": {},
   "source": [
    "All distances are valid (non-negative). \n",
    "\n",
    "However, we can see someone took a taxi from New York to as far as maybe Charlotte,NC (603.1 miles). Investigate this later. \n"
   ]
  },
  {
   "cell_type": "markdown",
   "metadata": {},
   "source": [
    "#### Histograms for trips within 100 miles"
   ]
  },
  {
   "cell_type": "code",
   "execution_count": 5,
   "metadata": {},
   "outputs": [
    {
     "data": {
      "image/png": "[encoded data removed]",
      "text/plain": [
       "<Figure size 432x288 with 1 Axes>"
      ]
     },
     "metadata": {
      "needs_background": "light"
     },
     "output_type": "display_data"
    }
   ],
   "source": [
    "plt.hist(distances[N:],edgecolor='black', linewidth=1.2)\n",
    "plt.xlabel(\"distances in miles\")\n",
    "plt.ylabel(\"number of trips\")\n",
    "plt.show()"
   ]
  },
  {
   "cell_type": "markdown",
   "metadata": {},
   "source": [
    "We observe that most trips are with in 35 miles, so we narrow our histgram range"
   ]
  },
  {
   "cell_type": "markdown",
   "metadata": {},
   "source": [
    "#### Histograms for trips within 35 miles"
   ]
  },
  {
   "cell_type": "code",
   "execution_count": 6,
   "metadata": {},
   "outputs": [
    {
     "name": "stdout",
     "output_type": "stream",
     "text": [
      "There are 256 trips with distance more than 35 miles\n"
     ]
    }
   ],
   "source": [
    "# see how many trips having a distance beyond 35 miles\n",
    "N1 = 0\n",
    "for i,d in enumerate(distances):\n",
    "    if d <35:\n",
    "        N1=i\n",
    "        break\n",
    "print(\"There are {} trips with distance more than 35 miles\".format(N1))"
   ]
  },
  {
   "cell_type": "code",
   "execution_count": 7,
   "metadata": {},
   "outputs": [
    {
     "data": {
      "image/png": "[encoded data removed]",
      "text/plain": [
       "<Figure size 432x288 with 1 Axes>"
      ]
     },
     "metadata": {
      "needs_background": "light"
     },
     "output_type": "display_data"
    }
   ],
   "source": [
    "plt.hist(distances[N1:],edgecolor='black', linewidth=1.2,bins=np.arange(0,40,5))\n",
    "plt.xlabel(\"distances in miles\")\n",
    "plt.ylabel(\"number of trips\")\n",
    "plt.show()"
   ]
  },
  {
   "cell_type": "markdown",
   "metadata": {},
   "source": [
    "Again, we observed that most trips are condensed within 15 miles. We narrow our range again"
   ]
  },
  {
   "cell_type": "markdown",
   "metadata": {},
   "source": [
    "#### Histograms for trips within 15 miles"
   ]
  },
  {
   "cell_type": "code",
   "execution_count": 8,
   "metadata": {},
   "outputs": [
    {
     "name": "stdout",
     "output_type": "stream",
     "text": [
      "There are 14089 trips with distance more than 15 miles\n"
     ]
    }
   ],
   "source": [
    "# see how many trips having a distance beyond 15 miles\n",
    "N2 = 0\n",
    "for i,d in enumerate(distances):\n",
    "    if d <15:\n",
    "        N2=i\n",
    "        break\n",
    "print(\"There are {} trips with distance more than 15 miles\".format(N2))"
   ]
  },
  {
   "cell_type": "code",
   "execution_count": 9,
   "metadata": {},
   "outputs": [
    {
     "data": {
      "image/png": "[encoded data removed]",
      "text/plain": [
       "<Figure size 432x288 with 1 Axes>"
      ]
     },
     "metadata": {
      "needs_background": "light"
     },
     "output_type": "display_data"
    },
    {
     "name": "stdout",
     "output_type": "stream",
     "text": [
      "Mean: 2.8139316075975933, Median: 1.95\n"
     ]
    }
   ],
   "source": [
    "plt.hist(distances[N2:],edgecolor='black', linewidth=1.2,bins=np.arange(0,16,1))\n",
    "plt.xlabel(\"distances in miles\")\n",
    "plt.ylabel(\"number of trips\")\n",
    "plt.show()\n",
    "print(\"Mean: {}, Median: {}\".format(np.mean(distances[N2:]),np.median(distances[N2:])))"
   ]
  },
  {
   "cell_type": "markdown",
   "metadata": {},
   "source": [
    "After removing 14089 trips (~1%) with distances larger than 15 miles, we see the histogram above.\n",
    "We conclude that ~99% of green taxis trips in Sep 2015 are within 15 miles of distances. Among thoese within 15 miles trips, the distribution is shown above. It is positively skewed with median 1.95 miles and mean 2.81 miles"
   ]
  },
  {
   "cell_type": "markdown",
   "metadata": {},
   "source": [
    "### For those take a taxi for long distances (Anomaly Detection)"
   ]
  },
  {
   "cell_type": "markdown",
   "metadata": {},
   "source": [
    "I feel interesting to investigate those who take a taxi for more than 100 miles (with extreme of 603.1 miles)"
   ]
  },
  {
   "cell_type": "code",
   "execution_count": 10,
   "metadata": {},
   "outputs": [],
   "source": [
    "# add week day info in our data set\n",
    "import datetime\n",
    "df['pickW'] = list(map(lambda x:datetime.datetime.strptime(x,'%Y-%m-%d').strftime('%A'),df['pickDate']))\n",
    "df['dropW'] = list(map(lambda x:datetime.datetime.strptime(x,'%Y-%m-%d').strftime('%A'),df['dropDate']))"
   ]
  },
  {
   "cell_type": "code",
   "execution_count": 11,
   "metadata": {},
   "outputs": [],
   "source": [
    "# sub set of distance >100 miles\n",
    "dfLong = df.loc[(df.Trip_distance>=100), ['pickDate','pickW','pickTime','Trip_distance','Tip_amount','Payment_type','Pickup_longitude','Pickup_latitude']]\n",
    "dfLong.sort_values(by=['pickW'],inplace=True)"
   ]
  },
  {
   "cell_type": "code",
   "execution_count": 12,
   "metadata": {},
   "outputs": [
    {
     "name": "stdout",
     "output_type": "stream",
     "text": [
      "pickDate      pickW  pickTime  Trip_distance  Tip_amount  Payment_type  Pickup_longitude  Pickup_latitude\n",
      "2015-09-11     Friday  17:22:50         120.13        0.00             2        -73.937775        40.800926\n",
      "2015-09-18     Friday  20:21:27         100.74        0.00             2        -73.958954        40.819847\n",
      "2015-09-19   Saturday  18:49:29         134.70      102.95             1        -73.961609        40.805958\n",
      "2015-09-26   Saturday  17:23:52         108.62       18.08             1        -73.803436        40.677845\n",
      "2015-09-27     Sunday  03:13:48         603.10        0.00             2        -73.937164        40.804386\n",
      "2015-09-10   Thursday  21:15:00         246.28       77.44             1        -73.871719        40.771744\n",
      "2015-09-22    Tuesday  10:30:53         105.65        0.00             2        -73.898193        40.749580\n",
      "2015-09-29    Tuesday  10:45:52         112.60        0.00             1        -73.931129        40.693161\n",
      "2015-09-29    Tuesday  17:01:17         112.60        6.35             1        -73.936172        40.685581\n",
      "2015-09-30  Wednesday  09:42:56         108.50        0.00             2        -73.914627        40.871475\n"
     ]
    }
   ],
   "source": [
    "print(dfLong.to_string(index=False))"
   ]
  },
  {
   "cell_type": "markdown",
   "metadata": {},
   "source": [
    "The long distance pickups are in different days of a week and different time of a day. I faild to obtain patterns from the table above to see any special characteristics of these long trips. However, we can take a look at where these long trips were initiated. Were they around airports?"
   ]
  },
  {
   "cell_type": "code",
   "execution_count": 13,
   "metadata": {},
   "outputs": [
    {
     "data": {
      "text/html": [
       "<div style=\"width:100%;\"><div style=\"position:relative;width:100%;height:0;padding-bottom:60%;\"><iframe src=\"data:text/html;charset=utf-8;base64,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\" style=\"position:absolute;width:100%;height:100%;left:0;top:0;border:none !important;\" allowfullscreen webkitallowfullscreen mozallowfullscreen></iframe></div></div>"
      ],
      "text/plain": [
       "<folium.folium.Map at 0x1406d9550>"
      ]
     },
     "execution_count": 13,
     "metadata": {},
     "output_type": "execute_result"
    }
   ],
   "source": [
    "# Visualization using folium\n",
    "# Please refer to map1.html if not running this block\n",
    "\n",
    "import folium\n",
    "longitude = list(dfLong['Pickup_longitude'])\n",
    "latitude = list(dfLong['Pickup_latitude'])\n",
    "\n",
    "fmap = folium.Map(location=[40.738, -73.98],zoom_start=12)\n",
    "\n",
    "markers = [folium.Marker(location=[la,lo],popup='<i>{}</i>'.format(d)) for la,lo,d in zip(dfLong['Pickup_latitude'],dfLong['Pickup_longitude'],dfLong['Trip_distance'])]\n",
    "for marker in markers:\n",
    "    marker.add_to(fmap)\n",
    "fmap.save(\"map1.html\")# saved to map1.html\n",
    "fmap\n"
   ]
  },
  {
   "cell_type": "markdown",
   "metadata": {},
   "source": [
    "Click on points for trip distance\n",
    "\n",
    "**(Refer to map1.html if not running this block to show visualization)**"
   ]
  },
  {
   "cell_type": "markdown",
   "metadata": {},
   "source": [
    "From map1, we can see that 2 long distance trips are initialized around LGA airport, 1 around JFK, 2 from Brooklyn, 1in Bronx,and most surprisingly, **4 in upper Manhattan**. \n",
    "\n",
    "**My reasonable guess is that people live in upper Manhattan are more likely to initiate a long distance taxi travel (>100 miles)**, may be due to richness (since he/she spent 600 bucks for just a taxi)\n",
    "\n",
    "Caution: We only analysis trips over 100 miles (only 10), the result is not statistically reliable. Given more time, we can re-define 50 miles, for example, to be a long distance travel. It will result in more observations, and perhaps more interest results."
   ]
  },
  {
   "cell_type": "markdown",
   "metadata": {},
   "source": [
    "## Question 3"
   ]
  },
  {
   "cell_type": "markdown",
   "metadata": {},
   "source": [
    "#### group by hour of day"
   ]
  },
  {
   "cell_type": "code",
   "execution_count": 14,
   "metadata": {},
   "outputs": [],
   "source": [
    "# add a 'hour' column to help group, the value is the pick up hour of that trip\n",
    "df['hour'] = list(map(lambda x:x[:2],df['pickTime']))"
   ]
  },
  {
   "cell_type": "code",
   "execution_count": 15,
   "metadata": {},
   "outputs": [
    {
     "data": {
      "text/html": [
       "<div>\n",
       "<style scoped>\n",
       "    .dataframe tbody tr th:only-of-type {\n",
       "        vertical-align: middle;\n",
       "    }\n",
       "\n",
       "    .dataframe tbody tr th {\n",
       "        vertical-align: top;\n",
       "    }\n",
       "\n",
       "    .dataframe thead th {\n",
       "        text-align: right;\n",
       "    }\n",
       "</style>\n",
       "<table border=\"1\" class=\"dataframe\">\n",
       "  <thead>\n",
       "    <tr style=\"text-align: right;\">\n",
       "      <th></th>\n",
       "      <th>0</th>\n",
       "      <th>1</th>\n",
       "      <th>2</th>\n",
       "      <th>3</th>\n",
       "      <th>4</th>\n",
       "      <th>5</th>\n",
       "      <th>6</th>\n",
       "      <th>7</th>\n",
       "      <th>8</th>\n",
       "      <th>9</th>\n",
       "      <th>10</th>\n",
       "      <th>11</th>\n",
       "      <th>12</th>\n",
       "      <th>13</th>\n",
       "      <th>14</th>\n",
       "      <th>15</th>\n",
       "      <th>16</th>\n",
       "      <th>17</th>\n",
       "      <th>18</th>\n",
       "      <th>19</th>\n",
       "      <th>20</th>\n",
       "      <th>21</th>\n",
       "      <th>22</th>\n",
       "      <th>23</th>\n",
       "    </tr>\n",
       "  </thead>\n",
       "  <tbody>\n",
       "    <tr>\n",
       "      <th>Mean</th>\n",
       "      <td>3.115276</td>\n",
       "      <td>3.017347</td>\n",
       "      <td>3.046176</td>\n",
       "      <td>3.212945</td>\n",
       "      <td>3.526555</td>\n",
       "      <td>4.133474</td>\n",
       "      <td>4.055149</td>\n",
       "      <td>3.284394</td>\n",
       "      <td>3.04845</td>\n",
       "      <td>2.999105</td>\n",
       "      <td>2.944482</td>\n",
       "      <td>2.912015</td>\n",
       "      <td>2.903065</td>\n",
       "      <td>2.878294</td>\n",
       "      <td>2.864304</td>\n",
       "      <td>2.85704</td>\n",
       "      <td>2.779852</td>\n",
       "      <td>2.679114</td>\n",
       "      <td>2.653222</td>\n",
       "      <td>2.715597</td>\n",
       "      <td>2.777052</td>\n",
       "      <td>2.999189</td>\n",
       "      <td>3.185394</td>\n",
       "      <td>3.191538</td>\n",
       "    </tr>\n",
       "    <tr>\n",
       "      <th>Median</th>\n",
       "      <td>2.200000</td>\n",
       "      <td>2.120000</td>\n",
       "      <td>2.140000</td>\n",
       "      <td>2.200000</td>\n",
       "      <td>2.360000</td>\n",
       "      <td>2.900000</td>\n",
       "      <td>2.840000</td>\n",
       "      <td>2.170000</td>\n",
       "      <td>1.98000</td>\n",
       "      <td>1.960000</td>\n",
       "      <td>1.920000</td>\n",
       "      <td>1.880000</td>\n",
       "      <td>1.890000</td>\n",
       "      <td>1.840000</td>\n",
       "      <td>1.830000</td>\n",
       "      <td>1.81000</td>\n",
       "      <td>1.800000</td>\n",
       "      <td>1.780000</td>\n",
       "      <td>1.800000</td>\n",
       "      <td>1.850000</td>\n",
       "      <td>1.900000</td>\n",
       "      <td>2.030000</td>\n",
       "      <td>2.200000</td>\n",
       "      <td>2.220000</td>\n",
       "    </tr>\n",
       "  </tbody>\n",
       "</table>\n",
       "</div>"
      ],
      "text/plain": [
       "              0         1         2         3         4         5         6   \\\n",
       "Mean    3.115276  3.017347  3.046176  3.212945  3.526555  4.133474  4.055149   \n",
       "Median  2.200000  2.120000  2.140000  2.200000  2.360000  2.900000  2.840000   \n",
       "\n",
       "              7        8         9         10        11        12        13  \\\n",
       "Mean    3.284394  3.04845  2.999105  2.944482  2.912015  2.903065  2.878294   \n",
       "Median  2.170000  1.98000  1.960000  1.920000  1.880000  1.890000  1.840000   \n",
       "\n",
       "              14       15        16        17        18        19        20  \\\n",
       "Mean    2.864304  2.85704  2.779852  2.679114  2.653222  2.715597  2.777052   \n",
       "Median  1.830000  1.81000  1.800000  1.780000  1.800000  1.850000  1.900000   \n",
       "\n",
       "              21        22        23  \n",
       "Mean    2.999189  3.185394  3.191538  \n",
       "Median  2.030000  2.200000  2.220000  "
      ]
     },
     "metadata": {},
     "output_type": "display_data"
    },
    {
     "data": {
      "image/png": "[encoded data removed]",
      "text/plain": [
       "<Figure size 1008x360 with 2 Axes>"
      ]
     },
     "metadata": {
      "needs_background": "light"
     },
     "output_type": "display_data"
    }
   ],
   "source": [
    "# group the dataframe by hour of a day\n",
    "hourGroups = df.groupby(['hour'])\n",
    "# get mean and median \n",
    "groupMean = np.array(hourGroups.mean()['Trip_distance'])\n",
    "groupMedian = np.array(hourGroups.median()['Trip_distance'])\n",
    "# report mean and median \n",
    "pd.set_option('display.max_columns', 30)\n",
    "display(pd.DataFrame([groupMean,groupMedian],index=['Mean','Median']))\n",
    "\n",
    "#plot \n",
    "plt.figure(figsize=[14,5])\n",
    "\n",
    "plt.subplot(1,2,1)\n",
    "plt.plot(hourGroups.mean()['Trip_distance'])\n",
    "plt.title(\"Mean trip distance by hour\")\n",
    "plt.ylabel(\"distance in miles\")\n",
    "plt.xlabel(\"hour of day\")\n",
    "\n",
    "plt.subplot(1,2,2)\n",
    "plt.plot(hourGroups.median()['Trip_distance'])\n",
    "plt.title(\"Median trip distance by hour\")\n",
    "plt.ylabel(\"distance in miles\")\n",
    "plt.xlabel(\"hour of day\")\n",
    "\n",
    "plt.show()"
   ]
  },
  {
   "cell_type": "markdown",
   "metadata": {},
   "source": [
    "We conclude that trips initiated early in the morning (4-5 a.m.) are more likely to cover long distances"
   ]
  },
  {
   "cell_type": "markdown",
   "metadata": {},
   "source": [
    "### group by airports"
   ]
  },
  {
   "cell_type": "markdown",
   "metadata": {},
   "source": [
    "There are three main airports serving New York City: La Guadia (LGA), John F. Kennedy International Airport (JFK) and Newark Airport (EWR). We add two columns into our dataframe:\n",
    "* pickZone: L, J, E OR N (not airport)\n",
    "* dropZone: L, J, E OR N (not airport)\n",
    "\n",
    "Geographic projection is needed for such classification in our data. \n",
    "\n",
    "The pacakge I intended to use \"pyproj\" is not compatible in Python3, therefore, I wrote a python 2.7 file called \"airportReader\" to perform such function. I read in the result I generated using that file directly."
   ]
  },
  {
   "cell_type": "code",
   "execution_count": 16,
   "metadata": {},
   "outputs": [],
   "source": [
    "# read in results generated by airportReader\n",
    "airport = pd.read_csv(\"airportCode.csv\",header=0)\n",
    "df['pickZone'] = airport['0']\n",
    "df['dropZone'] = airport['1']"
   ]
  },
  {
   "cell_type": "markdown",
   "metadata": {},
   "source": [
    "### For trips initiated from airports"
   ]
  },
  {
   "cell_type": "code",
   "execution_count": 17,
   "metadata": {},
   "outputs": [],
   "source": [
    "# group data by pickZone\n",
    "pickGroups = df.groupby(['pickZone'])"
   ]
  },
  {
   "cell_type": "code",
   "execution_count": 18,
   "metadata": {},
   "outputs": [
    {
     "data": {
      "text/html": [
       "<div>\n",
       "<style scoped>\n",
       "    .dataframe tbody tr th:only-of-type {\n",
       "        vertical-align: middle;\n",
       "    }\n",
       "\n",
       "    .dataframe tbody tr th {\n",
       "        vertical-align: top;\n",
       "    }\n",
       "\n",
       "    .dataframe thead th {\n",
       "        text-align: right;\n",
       "    }\n",
       "</style>\n",
       "<table border=\"1\" class=\"dataframe\">\n",
       "  <thead>\n",
       "    <tr style=\"text-align: right;\">\n",
       "      <th></th>\n",
       "      <th>Newark</th>\n",
       "      <th>LGA</th>\n",
       "      <th>JFK</th>\n",
       "      <th>Not AirPort</th>\n",
       "    </tr>\n",
       "  </thead>\n",
       "  <tbody>\n",
       "    <tr>\n",
       "      <th>Total Trips</th>\n",
       "      <td>40</td>\n",
       "      <td>350</td>\n",
       "      <td>361</td>\n",
       "      <td>1494175</td>\n",
       "    </tr>\n",
       "  </tbody>\n",
       "</table>\n",
       "</div>"
      ],
      "text/plain": [
       "             Newark  LGA  JFK  Not AirPort\n",
       "Total Trips      40  350  361      1494175"
      ]
     },
     "metadata": {},
     "output_type": "display_data"
    }
   ],
   "source": [
    "# report number of trips\n",
    "display(pd.DataFrame(np.array(pickGroups.size()),index=['Newark','LGA','JFK','Not AirPort'],columns=['Total Trips']).T)"
   ]
  },
  {
   "cell_type": "code",
   "execution_count": 19,
   "metadata": {},
   "outputs": [
    {
     "data": {
      "text/html": [
       "<div>\n",
       "<style scoped>\n",
       "    .dataframe tbody tr th:only-of-type {\n",
       "        vertical-align: middle;\n",
       "    }\n",
       "\n",
       "    .dataframe tbody tr th {\n",
       "        vertical-align: top;\n",
       "    }\n",
       "\n",
       "    .dataframe thead th {\n",
       "        text-align: right;\n",
       "    }\n",
       "</style>\n",
       "<table border=\"1\" class=\"dataframe\">\n",
       "  <thead>\n",
       "    <tr style=\"text-align: right;\">\n",
       "      <th></th>\n",
       "      <th>Newark</th>\n",
       "      <th>LGA</th>\n",
       "      <th>JFK</th>\n",
       "      <th>Not AirPort</th>\n",
       "    </tr>\n",
       "  </thead>\n",
       "  <tbody>\n",
       "    <tr>\n",
       "      <th>Average fare</th>\n",
       "      <td>75.01775</td>\n",
       "      <td>40.541</td>\n",
       "      <td>30.761745</td>\n",
       "      <td>15.020764</td>\n",
       "    </tr>\n",
       "  </tbody>\n",
       "</table>\n",
       "</div>"
      ],
      "text/plain": [
       "                Newark     LGA        JFK  Not AirPort\n",
       "Average fare  75.01775  40.541  30.761745    15.020764"
      ]
     },
     "metadata": {},
     "output_type": "display_data"
    }
   ],
   "source": [
    "# Trip average amount for each airport\n",
    "display(pd.DataFrame(np.array(pickGroups.mean()['Total_amount']),index=['Newark','LGA','JFK','Not AirPort'],columns=['Average fare']).T)"
   ]
  },
  {
   "cell_type": "markdown",
   "metadata": {},
   "source": [
    "This makes sense because Newark is the farest airport from NYC, and LGA is the cloest"
   ]
  },
  {
   "cell_type": "markdown",
   "metadata": {},
   "source": [
    "### For trips ended at airports"
   ]
  },
  {
   "cell_type": "code",
   "execution_count": 20,
   "metadata": {},
   "outputs": [],
   "source": [
    "# group data by pickZone\n",
    "dropGroups = df.groupby(['dropZone'])"
   ]
  },
  {
   "cell_type": "code",
   "execution_count": 21,
   "metadata": {},
   "outputs": [
    {
     "data": {
      "text/html": [
       "<div>\n",
       "<style scoped>\n",
       "    .dataframe tbody tr th:only-of-type {\n",
       "        vertical-align: middle;\n",
       "    }\n",
       "\n",
       "    .dataframe tbody tr th {\n",
       "        vertical-align: top;\n",
       "    }\n",
       "\n",
       "    .dataframe thead th {\n",
       "        text-align: right;\n",
       "    }\n",
       "</style>\n",
       "<table border=\"1\" class=\"dataframe\">\n",
       "  <thead>\n",
       "    <tr style=\"text-align: right;\">\n",
       "      <th></th>\n",
       "      <th>Newark</th>\n",
       "      <th>LGA</th>\n",
       "      <th>JFK</th>\n",
       "      <th>Not AirPort</th>\n",
       "    </tr>\n",
       "  </thead>\n",
       "  <tbody>\n",
       "    <tr>\n",
       "      <th>Total Trips</th>\n",
       "      <td>698</td>\n",
       "      <td>13365</td>\n",
       "      <td>21292</td>\n",
       "      <td>1459571</td>\n",
       "    </tr>\n",
       "  </tbody>\n",
       "</table>\n",
       "</div>"
      ],
      "text/plain": [
       "             Newark    LGA    JFK  Not AirPort\n",
       "Total Trips     698  13365  21292      1459571"
      ]
     },
     "metadata": {},
     "output_type": "display_data"
    }
   ],
   "source": [
    "# report number of trips\n",
    "# Trip total amount for each airport\n",
    "display(pd.DataFrame(np.array(dropGroups.size()),index=['Newark','LGA','JFK','Not AirPort'],columns=['Total Trips']).T)"
   ]
  },
  {
   "cell_type": "markdown",
   "metadata": {},
   "source": [
    "Looks like JFK has the most arrivals"
   ]
  },
  {
   "cell_type": "code",
   "execution_count": 22,
   "metadata": {},
   "outputs": [
    {
     "data": {
      "text/html": [
       "<div>\n",
       "<style scoped>\n",
       "    .dataframe tbody tr th:only-of-type {\n",
       "        vertical-align: middle;\n",
       "    }\n",
       "\n",
       "    .dataframe tbody tr th {\n",
       "        vertical-align: top;\n",
       "    }\n",
       "\n",
       "    .dataframe thead th {\n",
       "        text-align: right;\n",
       "    }\n",
       "</style>\n",
       "<table border=\"1\" class=\"dataframe\">\n",
       "  <thead>\n",
       "    <tr style=\"text-align: right;\">\n",
       "      <th></th>\n",
       "      <th>Newark</th>\n",
       "      <th>LGA</th>\n",
       "      <th>JFK</th>\n",
       "      <th>Not AirPort</th>\n",
       "    </tr>\n",
       "  </thead>\n",
       "  <tbody>\n",
       "    <tr>\n",
       "      <th>Average fare</th>\n",
       "      <td>97.864398</td>\n",
       "      <td>48.214816</td>\n",
       "      <td>26.534611</td>\n",
       "      <td>14.52089</td>\n",
       "    </tr>\n",
       "  </tbody>\n",
       "</table>\n",
       "</div>"
      ],
      "text/plain": [
       "                 Newark        LGA        JFK  Not AirPort\n",
       "Average fare  97.864398  48.214816  26.534611     14.52089"
      ]
     },
     "metadata": {},
     "output_type": "display_data"
    }
   ],
   "source": [
    "# Trip average amount for each airport\n",
    "display(pd.DataFrame(np.array(dropGroups.mean()['Total_amount']),index=['Newark','LGA','JFK','Not AirPort'],columns=['Average fare']).T)"
   ]
  },
  {
   "cell_type": "markdown",
   "metadata": {},
   "source": [
    "### People at which airpots are more likely to take a taxi?\n",
    "JFK has a much larger capacity than LGA, therefore, it is more than natural for it to has a larger number of taxi takers. However, on average, which people at which airport are more likely to takek a taxi?\n",
    "\n",
    "I searched on the web https://www.panynj.gov/airports/traffic-statistics.html to find the total passangers in Sep, 2015:\n",
    "* LGA:  2,340,430\n",
    "* EWR:  3,036,938\n",
    "* JFK:  4,778,774\n",
    "\n",
    "Let's see on average, which airport are more taxi friendly"
   ]
  },
  {
   "cell_type": "code",
   "execution_count": 23,
   "metadata": {},
   "outputs": [
    {
     "data": {
      "text/html": [
       "<div>\n",
       "<style scoped>\n",
       "    .dataframe tbody tr th:only-of-type {\n",
       "        vertical-align: middle;\n",
       "    }\n",
       "\n",
       "    .dataframe tbody tr th {\n",
       "        vertical-align: top;\n",
       "    }\n",
       "\n",
       "    .dataframe thead th {\n",
       "        text-align: right;\n",
       "    }\n",
       "</style>\n",
       "<table border=\"1\" class=\"dataframe\">\n",
       "  <thead>\n",
       "    <tr style=\"text-align: right;\">\n",
       "      <th></th>\n",
       "      <th>LGA</th>\n",
       "      <th>JFK</th>\n",
       "      <th>EWR</th>\n",
       "    </tr>\n",
       "  </thead>\n",
       "  <tbody>\n",
       "    <tr>\n",
       "      <th>taxi percentage %</th>\n",
       "      <td>0.925172</td>\n",
       "      <td>0.286998</td>\n",
       "      <td>0.024301</td>\n",
       "    </tr>\n",
       "  </tbody>\n",
       "</table>\n",
       "</div>"
      ],
      "text/plain": [
       "                        LGA       JFK       EWR\n",
       "taxi percentage %  0.925172  0.286998  0.024301"
      ]
     },
     "metadata": {},
     "output_type": "display_data"
    }
   ],
   "source": [
    "pL = 100*(pickGroups.size()['L'] + dropGroups.size()['L'])/2340430\n",
    "pJ = 100*(pickGroups.size()['J'] + dropGroups.size()['J'])/4778774\n",
    "pN = 100*(pickGroups.size()['E'] + dropGroups.size()['E'])/3036938\n",
    "display(pd.DataFrame(np.array([pL,pJ,pN]),index=['LGA','JFK','EWR'],columns=['taxi percentage %']).T)"
   ]
  },
  {
   "cell_type": "markdown",
   "metadata": {},
   "source": [
    "It looks like JFK is contributing a lot of taxi riders, but actually on average, people at LGA are more likely to take a taxi. I live in New York, and visited JFK and LGA several times. The reason might be that LGA has a very poor public transportation system. No subways. It will be far more convenient to take a taxi getting around LGA. For JFK, A and C subway lines goes directly there, the need of riding a taxi is low.\n",
    "\n",
    "For Newwark,the average taxi percentage is low, but for each trip, driver earns a lot more"
   ]
  },
  {
   "cell_type": "markdown",
   "metadata": {},
   "source": [
    "## Question 4"
   ]
  },
  {
   "cell_type": "markdown",
   "metadata": {},
   "source": [
    "Think of some reasonable fetures that may explain tip percentage:\n",
    "* Total fare amount \n",
    " * Trip distance is for sure useful, but it is highly correlated with total amount. Actually total amount contains more information than trip distance. Trips cover long distances have high fare, but high fare trips do not need to be a long distance travel (maybe due to congestion). Therefore, I expect only one between distance and amount to be in models\n",
    "* travel weekday\n",
    "* pickup hour\n",
    "* RateCodeID\n",
    "* Pickzone. If it is from an airport, and which airport?\n",
    "\n",
    "Note that besides Total fare amount, all variables are catogory. If they are fitted into like linear regression models, there will be too many dummy variables. Therefore, decision trees along with reandom forest might be suitable for this problem. However, before applying decision tree, I wish to build a very simple benchmark model. Then, to see can we do better with decision trees"
   ]
  },
  {
   "cell_type": "markdown",
   "metadata": {},
   "source": [
    "We need to split the dataframe into train data and test data. A reasonable way is to use the last week of September as test data, and others as training data.\n",
    "We also need to clean data with negative fare amount (no clue what they are), cash paid data (no tip info), and limite our analysis for trips within 15 miles"
   ]
  },
  {
   "cell_type": "markdown",
   "metadata": {},
   "source": [
    "### clean data for modeling purpose"
   ]
  },
  {
   "cell_type": "code",
   "execution_count": 24,
   "metadata": {},
   "outputs": [],
   "source": [
    "# create a copy of dataframe for modeling\n",
    "dfModel = df.copy()\n",
    "\n",
    "# add tip percentage: tipP in our data frame\n",
    "dfModel['tipP'] = dfModel['Tip_amount']/dfModel['Total_amount']\n",
    "\n",
    "# drop rows with negative amount\n",
    "dfModel = dfModel.loc[(dfModel.Total_amount>=0),:]\n",
    "\n",
    "# drop rows paid in cash, since tip info is not included for these records\n",
    "dfModel = dfModel.loc[(dfModel.Payment_type==1),:]\n",
    "\n",
    "# drop rows with trip distance more than 20 miles\n",
    "dfModel = dfModel.loc[(dfModel.Trip_distance<=15),:]\n"
   ]
  },
  {
   "cell_type": "code",
   "execution_count": 25,
   "metadata": {},
   "outputs": [
    {
     "name": "stdout",
     "output_type": "stream",
     "text": [
      "The largest tip percentage is 1.0\n",
      "The smallest tip percentage is 0.0\n"
     ]
    }
   ],
   "source": [
    "# check the tip percentage range\n",
    "print(\"The largest tip percentage is {}\".format(max(dfModel['tipP'])))\n",
    "print(\"The smallest tip percentage is {}\".format(min(dfModel['tipP'])))"
   ]
  },
  {
   "cell_type": "markdown",
   "metadata": {},
   "source": [
    "TipP falls in the range of [0,1] as percentage requires. Howver, it is doubtful of giving 100% as tips (giving the same amount of total fare as tips). I suspect it might be some data entering errors (taking total amount as tips). I looked into the data dictionary table. The table says this info is provided directly from credit card companies, not manually entered. Therefore, I decided not to remove these observations. Another reason of not removing is that, if we remove observations with tipP=1.0, why not 0.95 or 0.9. Therefore, no removal is performed"
   ]
  },
  {
   "cell_type": "code",
   "execution_count": 26,
   "metadata": {},
   "outputs": [
    {
     "name": "stdout",
     "output_type": "stream",
     "text": [
      "The largest total amount is 490.0\n",
      "The smallest total amount is 0.0\n"
     ]
    }
   ],
   "source": [
    "# check the total amount range \n",
    "print(\"The largest total amount is {}\".format(max(dfModel['Total_amount'])))\n",
    "print(\"The smallest total amount is {}\".format(min(dfModel['Total_amount'])))"
   ]
  },
  {
   "cell_type": "markdown",
   "metadata": {},
   "source": [
    "We have already removed trips longer than 15 miles. How total amount like 490 dollars possible? \n",
    "And why there are total amount 0?"
   ]
  },
  {
   "cell_type": "code",
   "execution_count": 27,
   "metadata": {},
   "outputs": [
    {
     "data": {
      "text/html": [
       "<div>\n",
       "<style scoped>\n",
       "    .dataframe tbody tr th:only-of-type {\n",
       "        vertical-align: middle;\n",
       "    }\n",
       "\n",
       "    .dataframe tbody tr th {\n",
       "        vertical-align: top;\n",
       "    }\n",
       "\n",
       "    .dataframe thead th {\n",
       "        text-align: right;\n",
       "    }\n",
       "</style>\n",
       "<table border=\"1\" class=\"dataframe\">\n",
       "  <thead>\n",
       "    <tr style=\"text-align: right;\">\n",
       "      <th></th>\n",
       "      <th>Store_and_fwd_flag</th>\n",
       "      <th>RateCodeID</th>\n",
       "      <th>Pickup_longitude</th>\n",
       "      <th>Pickup_latitude</th>\n",
       "      <th>Dropoff_longitude</th>\n",
       "      <th>Dropoff_latitude</th>\n",
       "      <th>Passenger_count</th>\n",
       "      <th>Trip_distance</th>\n",
       "      <th>Fare_amount</th>\n",
       "      <th>Extra</th>\n",
       "      <th>MTA_tax</th>\n",
       "      <th>Tip_amount</th>\n",
       "      <th>Tolls_amount</th>\n",
       "      <th>Ehail_fee</th>\n",
       "      <th>improvement_surcharge</th>\n",
       "      <th>Total_amount</th>\n",
       "      <th>Payment_type</th>\n",
       "      <th>Trip_type</th>\n",
       "      <th>pickTime</th>\n",
       "      <th>pickDate</th>\n",
       "      <th>dropTime</th>\n",
       "      <th>dropDate</th>\n",
       "      <th>pickW</th>\n",
       "      <th>dropW</th>\n",
       "      <th>hour</th>\n",
       "      <th>pickZone</th>\n",
       "      <th>dropZone</th>\n",
       "      <th>tipP</th>\n",
       "    </tr>\n",
       "  </thead>\n",
       "  <tbody>\n",
       "    <tr>\n",
       "      <th>16195</th>\n",
       "      <td>N</td>\n",
       "      <td>5</td>\n",
       "      <td>-73.916046</td>\n",
       "      <td>40.690800</td>\n",
       "      <td>-73.916054</td>\n",
       "      <td>40.690788</td>\n",
       "      <td>3</td>\n",
       "      <td>0.00</td>\n",
       "      <td>400.0</td>\n",
       "      <td>0.0</td>\n",
       "      <td>0.0</td>\n",
       "      <td>80.0</td>\n",
       "      <td>0.0</td>\n",
       "      <td>NaN</td>\n",
       "      <td>0.0</td>\n",
       "      <td>480.0</td>\n",
       "      <td>1</td>\n",
       "      <td>2.0</td>\n",
       "      <td>13:20:23</td>\n",
       "      <td>2015-09-01</td>\n",
       "      <td>13:25:39</td>\n",
       "      <td>2015-09-01</td>\n",
       "      <td>Tuesday</td>\n",
       "      <td>Tuesday</td>\n",
       "      <td>13</td>\n",
       "      <td>N</td>\n",
       "      <td>N</td>\n",
       "      <td>0.166667</td>\n",
       "    </tr>\n",
       "    <tr>\n",
       "      <th>16243</th>\n",
       "      <td>N</td>\n",
       "      <td>5</td>\n",
       "      <td>-73.916054</td>\n",
       "      <td>40.690777</td>\n",
       "      <td>-73.916046</td>\n",
       "      <td>40.690788</td>\n",
       "      <td>3</td>\n",
       "      <td>0.00</td>\n",
       "      <td>400.0</td>\n",
       "      <td>0.0</td>\n",
       "      <td>0.0</td>\n",
       "      <td>80.0</td>\n",
       "      <td>0.0</td>\n",
       "      <td>NaN</td>\n",
       "      <td>0.0</td>\n",
       "      <td>480.0</td>\n",
       "      <td>1</td>\n",
       "      <td>2.0</td>\n",
       "      <td>13:27:03</td>\n",
       "      <td>2015-09-01</td>\n",
       "      <td>13:27:16</td>\n",
       "      <td>2015-09-01</td>\n",
       "      <td>Tuesday</td>\n",
       "      <td>Tuesday</td>\n",
       "      <td>13</td>\n",
       "      <td>N</td>\n",
       "      <td>N</td>\n",
       "      <td>0.166667</td>\n",
       "    </tr>\n",
       "    <tr>\n",
       "      <th>140267</th>\n",
       "      <td>N</td>\n",
       "      <td>5</td>\n",
       "      <td>-73.800110</td>\n",
       "      <td>40.595432</td>\n",
       "      <td>-73.800125</td>\n",
       "      <td>40.595432</td>\n",
       "      <td>1</td>\n",
       "      <td>0.00</td>\n",
       "      <td>420.0</td>\n",
       "      <td>0.0</td>\n",
       "      <td>0.0</td>\n",
       "      <td>0.0</td>\n",
       "      <td>0.0</td>\n",
       "      <td>NaN</td>\n",
       "      <td>0.0</td>\n",
       "      <td>420.0</td>\n",
       "      <td>1</td>\n",
       "      <td>2.0</td>\n",
       "      <td>06:40:02</td>\n",
       "      <td>2015-09-04</td>\n",
       "      <td>06:44:52</td>\n",
       "      <td>2015-09-04</td>\n",
       "      <td>Friday</td>\n",
       "      <td>Friday</td>\n",
       "      <td>06</td>\n",
       "      <td>N</td>\n",
       "      <td>N</td>\n",
       "      <td>0.000000</td>\n",
       "    </tr>\n",
       "    <tr>\n",
       "      <th>862875</th>\n",
       "      <td>N</td>\n",
       "      <td>5</td>\n",
       "      <td>-74.012413</td>\n",
       "      <td>40.648067</td>\n",
       "      <td>-74.012428</td>\n",
       "      <td>40.648048</td>\n",
       "      <td>1</td>\n",
       "      <td>0.00</td>\n",
       "      <td>450.0</td>\n",
       "      <td>0.0</td>\n",
       "      <td>0.0</td>\n",
       "      <td>0.0</td>\n",
       "      <td>0.0</td>\n",
       "      <td>NaN</td>\n",
       "      <td>0.0</td>\n",
       "      <td>450.0</td>\n",
       "      <td>1</td>\n",
       "      <td>2.0</td>\n",
       "      <td>14:20:47</td>\n",
       "      <td>2015-09-18</td>\n",
       "      <td>14:20:52</td>\n",
       "      <td>2015-09-18</td>\n",
       "      <td>Friday</td>\n",
       "      <td>Friday</td>\n",
       "      <td>14</td>\n",
       "      <td>N</td>\n",
       "      <td>N</td>\n",
       "      <td>0.000000</td>\n",
       "    </tr>\n",
       "    <tr>\n",
       "      <th>865407</th>\n",
       "      <td>N</td>\n",
       "      <td>5</td>\n",
       "      <td>-73.921135</td>\n",
       "      <td>40.812397</td>\n",
       "      <td>-73.921112</td>\n",
       "      <td>40.812447</td>\n",
       "      <td>1</td>\n",
       "      <td>0.00</td>\n",
       "      <td>490.0</td>\n",
       "      <td>0.0</td>\n",
       "      <td>0.0</td>\n",
       "      <td>0.0</td>\n",
       "      <td>0.0</td>\n",
       "      <td>NaN</td>\n",
       "      <td>0.0</td>\n",
       "      <td>490.0</td>\n",
       "      <td>1</td>\n",
       "      <td>2.0</td>\n",
       "      <td>15:16:24</td>\n",
       "      <td>2015-09-18</td>\n",
       "      <td>15:24:13</td>\n",
       "      <td>2015-09-18</td>\n",
       "      <td>Friday</td>\n",
       "      <td>Friday</td>\n",
       "      <td>15</td>\n",
       "      <td>N</td>\n",
       "      <td>N</td>\n",
       "      <td>0.000000</td>\n",
       "    </tr>\n",
       "    <tr>\n",
       "      <th>865896</th>\n",
       "      <td>N</td>\n",
       "      <td>5</td>\n",
       "      <td>0.000000</td>\n",
       "      <td>0.000000</td>\n",
       "      <td>-73.895599</td>\n",
       "      <td>40.858383</td>\n",
       "      <td>1</td>\n",
       "      <td>0.00</td>\n",
       "      <td>475.0</td>\n",
       "      <td>0.0</td>\n",
       "      <td>0.0</td>\n",
       "      <td>0.0</td>\n",
       "      <td>0.0</td>\n",
       "      <td>NaN</td>\n",
       "      <td>0.0</td>\n",
       "      <td>475.0</td>\n",
       "      <td>1</td>\n",
       "      <td>2.0</td>\n",
       "      <td>15:47:05</td>\n",
       "      <td>2015-09-18</td>\n",
       "      <td>15:47:07</td>\n",
       "      <td>2015-09-18</td>\n",
       "      <td>Friday</td>\n",
       "      <td>Friday</td>\n",
       "      <td>15</td>\n",
       "      <td>N</td>\n",
       "      <td>N</td>\n",
       "      <td>0.000000</td>\n",
       "    </tr>\n",
       "    <tr>\n",
       "      <th>1163570</th>\n",
       "      <td>N</td>\n",
       "      <td>5</td>\n",
       "      <td>-73.750824</td>\n",
       "      <td>40.698738</td>\n",
       "      <td>-73.750809</td>\n",
       "      <td>40.698738</td>\n",
       "      <td>2</td>\n",
       "      <td>0.00</td>\n",
       "      <td>450.0</td>\n",
       "      <td>0.0</td>\n",
       "      <td>0.0</td>\n",
       "      <td>0.0</td>\n",
       "      <td>0.0</td>\n",
       "      <td>NaN</td>\n",
       "      <td>0.0</td>\n",
       "      <td>450.0</td>\n",
       "      <td>1</td>\n",
       "      <td>2.0</td>\n",
       "      <td>13:33:31</td>\n",
       "      <td>2015-09-24</td>\n",
       "      <td>13:34:21</td>\n",
       "      <td>2015-09-24</td>\n",
       "      <td>Thursday</td>\n",
       "      <td>Thursday</td>\n",
       "      <td>13</td>\n",
       "      <td>N</td>\n",
       "      <td>N</td>\n",
       "      <td>0.000000</td>\n",
       "    </tr>\n",
       "    <tr>\n",
       "      <th>1477297</th>\n",
       "      <td>N</td>\n",
       "      <td>5</td>\n",
       "      <td>-73.966339</td>\n",
       "      <td>40.632568</td>\n",
       "      <td>-73.967331</td>\n",
       "      <td>40.634377</td>\n",
       "      <td>1</td>\n",
       "      <td>0.06</td>\n",
       "      <td>400.0</td>\n",
       "      <td>0.0</td>\n",
       "      <td>0.0</td>\n",
       "      <td>80.0</td>\n",
       "      <td>0.0</td>\n",
       "      <td>NaN</td>\n",
       "      <td>0.0</td>\n",
       "      <td>480.0</td>\n",
       "      <td>1</td>\n",
       "      <td>2.0</td>\n",
       "      <td>17:32:20</td>\n",
       "      <td>2015-09-30</td>\n",
       "      <td>17:36:22</td>\n",
       "      <td>2015-09-30</td>\n",
       "      <td>Wednesday</td>\n",
       "      <td>Wednesday</td>\n",
       "      <td>17</td>\n",
       "      <td>N</td>\n",
       "      <td>N</td>\n",
       "      <td>0.166667</td>\n",
       "    </tr>\n",
       "    <tr>\n",
       "      <th>1482751</th>\n",
       "      <td>N</td>\n",
       "      <td>5</td>\n",
       "      <td>-73.953293</td>\n",
       "      <td>40.640816</td>\n",
       "      <td>-73.953392</td>\n",
       "      <td>40.640892</td>\n",
       "      <td>1</td>\n",
       "      <td>0.00</td>\n",
       "      <td>400.0</td>\n",
       "      <td>0.0</td>\n",
       "      <td>0.0</td>\n",
       "      <td>80.0</td>\n",
       "      <td>0.0</td>\n",
       "      <td>NaN</td>\n",
       "      <td>0.0</td>\n",
       "      <td>480.0</td>\n",
       "      <td>1</td>\n",
       "      <td>2.0</td>\n",
       "      <td>19:32:50</td>\n",
       "      <td>2015-09-30</td>\n",
       "      <td>20:17:53</td>\n",
       "      <td>2015-09-30</td>\n",
       "      <td>Wednesday</td>\n",
       "      <td>Wednesday</td>\n",
       "      <td>19</td>\n",
       "      <td>N</td>\n",
       "      <td>N</td>\n",
       "      <td>0.166667</td>\n",
       "    </tr>\n",
       "  </tbody>\n",
       "</table>\n",
       "</div>"
      ],
      "text/plain": [
       "        Store_and_fwd_flag  RateCodeID  Pickup_longitude  Pickup_latitude  \\\n",
       "16195                    N           5        -73.916046        40.690800   \n",
       "16243                    N           5        -73.916054        40.690777   \n",
       "140267                   N           5        -73.800110        40.595432   \n",
       "862875                   N           5        -74.012413        40.648067   \n",
       "865407                   N           5        -73.921135        40.812397   \n",
       "865896                   N           5          0.000000         0.000000   \n",
       "1163570                  N           5        -73.750824        40.698738   \n",
       "1477297                  N           5        -73.966339        40.632568   \n",
       "1482751                  N           5        -73.953293        40.640816   \n",
       "\n",
       "         Dropoff_longitude  Dropoff_latitude  Passenger_count  Trip_distance  \\\n",
       "16195           -73.916054         40.690788                3           0.00   \n",
       "16243           -73.916046         40.690788                3           0.00   \n",
       "140267          -73.800125         40.595432                1           0.00   \n",
       "862875          -74.012428         40.648048                1           0.00   \n",
       "865407          -73.921112         40.812447                1           0.00   \n",
       "865896          -73.895599         40.858383                1           0.00   \n",
       "1163570         -73.750809         40.698738                2           0.00   \n",
       "1477297         -73.967331         40.634377                1           0.06   \n",
       "1482751         -73.953392         40.640892                1           0.00   \n",
       "\n",
       "         Fare_amount  Extra  MTA_tax  Tip_amount  Tolls_amount  Ehail_fee  \\\n",
       "16195          400.0    0.0      0.0        80.0           0.0        NaN   \n",
       "16243          400.0    0.0      0.0        80.0           0.0        NaN   \n",
       "140267         420.0    0.0      0.0         0.0           0.0        NaN   \n",
       "862875         450.0    0.0      0.0         0.0           0.0        NaN   \n",
       "865407         490.0    0.0      0.0         0.0           0.0        NaN   \n",
       "865896         475.0    0.0      0.0         0.0           0.0        NaN   \n",
       "1163570        450.0    0.0      0.0         0.0           0.0        NaN   \n",
       "1477297        400.0    0.0      0.0        80.0           0.0        NaN   \n",
       "1482751        400.0    0.0      0.0        80.0           0.0        NaN   \n",
       "\n",
       "         improvement_surcharge  Total_amount  Payment_type  Trip_type   \\\n",
       "16195                      0.0         480.0             1         2.0   \n",
       "16243                      0.0         480.0             1         2.0   \n",
       "140267                     0.0         420.0             1         2.0   \n",
       "862875                     0.0         450.0             1         2.0   \n",
       "865407                     0.0         490.0             1         2.0   \n",
       "865896                     0.0         475.0             1         2.0   \n",
       "1163570                    0.0         450.0             1         2.0   \n",
       "1477297                    0.0         480.0             1         2.0   \n",
       "1482751                    0.0         480.0             1         2.0   \n",
       "\n",
       "         pickTime    pickDate  dropTime    dropDate      pickW      dropW  \\\n",
       "16195    13:20:23  2015-09-01  13:25:39  2015-09-01    Tuesday    Tuesday   \n",
       "16243    13:27:03  2015-09-01  13:27:16  2015-09-01    Tuesday    Tuesday   \n",
       "140267   06:40:02  2015-09-04  06:44:52  2015-09-04     Friday     Friday   \n",
       "862875   14:20:47  2015-09-18  14:20:52  2015-09-18     Friday     Friday   \n",
       "865407   15:16:24  2015-09-18  15:24:13  2015-09-18     Friday     Friday   \n",
       "865896   15:47:05  2015-09-18  15:47:07  2015-09-18     Friday     Friday   \n",
       "1163570  13:33:31  2015-09-24  13:34:21  2015-09-24   Thursday   Thursday   \n",
       "1477297  17:32:20  2015-09-30  17:36:22  2015-09-30  Wednesday  Wednesday   \n",
       "1482751  19:32:50  2015-09-30  20:17:53  2015-09-30  Wednesday  Wednesday   \n",
       "\n",
       "        hour pickZone dropZone      tipP  \n",
       "16195     13        N        N  0.166667  \n",
       "16243     13        N        N  0.166667  \n",
       "140267    06        N        N  0.000000  \n",
       "862875    14        N        N  0.000000  \n",
       "865407    15        N        N  0.000000  \n",
       "865896    15        N        N  0.000000  \n",
       "1163570   13        N        N  0.000000  \n",
       "1477297   17        N        N  0.166667  \n",
       "1482751   19        N        N  0.166667  "
      ]
     },
     "metadata": {},
     "output_type": "display_data"
    }
   ],
   "source": [
    "display(dfModel.loc[(dfModel.Total_amount>400),:])"
   ]
  },
  {
   "cell_type": "markdown",
   "metadata": {},
   "source": [
    "We see that for these trips, the distance is not even recorded (0). Therefore, I guess for some long distance trips, driver and passenger aruged something out, instad of using meters.Therefore, I decided to model only trips having at leas 1 mile in record and fare at most 150 dollars and at least 10 dollars"
   ]
  },
  {
   "cell_type": "code",
   "execution_count": 28,
   "metadata": {},
   "outputs": [],
   "source": [
    "# remove distance 0 records\n",
    "dfModel = dfModel.loc[(dfModel.Trip_distance)>=1,:]\n",
    "\n",
    "# remove total_fare greater than 150 dollars\n",
    "dfModel = dfModel.loc[(dfModel.Total_amount)<=150,:]\n",
    "# remove total_far less than 10 dollars\n",
    "dfModel = dfModel.loc[(dfModel.Total_amount)>10,:]"
   ]
  },
  {
   "cell_type": "markdown",
   "metadata": {},
   "source": [
    "Now the data should be suitable for modeling"
   ]
  },
  {
   "cell_type": "markdown",
   "metadata": {},
   "source": [
    "### split data"
   ]
  },
  {
   "cell_type": "markdown",
   "metadata": {},
   "source": [
    "As discussed above, we leave the last week in September as test data and use others as trainning data"
   ]
  },
  {
   "cell_type": "code",
   "execution_count": 29,
   "metadata": {},
   "outputs": [],
   "source": [
    "# split data\n",
    "dfTrain = dfModel.loc[(df.pickDate<=\"2015-09-23\"),:]\n",
    "dfTest = dfModel.loc[(df.pickDate>\"2015-09-23\"),:]\n",
    "\n",
    "# data set size\n",
    "nTrain = dfTrain.shape[0]\n",
    "nTest = dfTest.shape[0]"
   ]
  },
  {
   "cell_type": "markdown",
   "metadata": {},
   "source": [
    "### Tip percentage v.s. Total amount"
   ]
  },
  {
   "cell_type": "code",
   "execution_count": 30,
   "metadata": {},
   "outputs": [
    {
     "data": {
      "text/plain": [
       "<matplotlib.axes._subplots.AxesSubplot at 0x129f877b8>"
      ]
     },
     "execution_count": 30,
     "metadata": {},
     "output_type": "execute_result"
    },
    {
     "data": {
      "image/png": "[encoded data removed]",
      "text/plain": [
       "<Figure size 432x288 with 1 Axes>"
      ]
     },
     "metadata": {
      "needs_background": "light"
     },
     "output_type": "display_data"
    }
   ],
   "source": [
    "dfTrain.plot.scatter(x='Total_amount',y='tipP')"
   ]
  },
  {
   "cell_type": "markdown",
   "metadata": {},
   "source": [
    "We can see some sort of upward trending, but the data is quite noisy. We have 12 dollars passanger giving 100% tips (that is reasonable as discussed above), and 145 dollars passanger giving no tips at all.\n",
    "\n",
    "The most common range of tip percentages are from 0 to 0.4"
   ]
  },
  {
   "cell_type": "markdown",
   "metadata": {},
   "source": [
    "### Tip percentage v.s. Trip distance"
   ]
  },
  {
   "cell_type": "code",
   "execution_count": 31,
   "metadata": {},
   "outputs": [
    {
     "data": {
      "text/plain": [
       "<matplotlib.axes._subplots.AxesSubplot at 0x144b390f0>"
      ]
     },
     "execution_count": 31,
     "metadata": {},
     "output_type": "execute_result"
    },
    {
     "data": {
      "image/png": "[encoded data removed]",
      "text/plain": [
       "<Figure size 432x288 with 1 Axes>"
      ]
     },
     "metadata": {
      "needs_background": "light"
     },
     "output_type": "display_data"
    }
   ],
   "source": [
    "dfTrain.plot.scatter(x='Trip_distance',y='tipP')"
   ]
  },
  {
   "cell_type": "markdown",
   "metadata": {},
   "source": [
    "The scatter plot gives us little information. As I expected, trip distance and total amount are highly correlated, but trip distance gives much less information than total amount. I decide to drop trip distance in future modelings"
   ]
  },
  {
   "cell_type": "markdown",
   "metadata": {},
   "source": [
    "### Tip percentage v.s. PickZone"
   ]
  },
  {
   "cell_type": "code",
   "execution_count": 32,
   "metadata": {},
   "outputs": [],
   "source": [
    "pickGroupsT = dfTrain.groupby(['pickZone'])"
   ]
  },
  {
   "cell_type": "code",
   "execution_count": 33,
   "metadata": {},
   "outputs": [
    {
     "data": {
      "text/html": [
       "<div>\n",
       "<style scoped>\n",
       "    .dataframe tbody tr th:only-of-type {\n",
       "        vertical-align: middle;\n",
       "    }\n",
       "\n",
       "    .dataframe tbody tr th {\n",
       "        vertical-align: top;\n",
       "    }\n",
       "\n",
       "    .dataframe thead th {\n",
       "        text-align: right;\n",
       "    }\n",
       "</style>\n",
       "<table border=\"1\" class=\"dataframe\">\n",
       "  <thead>\n",
       "    <tr style=\"text-align: right;\">\n",
       "      <th></th>\n",
       "      <th>JFK</th>\n",
       "      <th>LGA</th>\n",
       "      <th>Not Airpott</th>\n",
       "    </tr>\n",
       "  </thead>\n",
       "  <tbody>\n",
       "    <tr>\n",
       "      <th>Average Tip Percent %</th>\n",
       "      <td>16.85456</td>\n",
       "      <td>14.407436</td>\n",
       "      <td>14.360372</td>\n",
       "    </tr>\n",
       "  </tbody>\n",
       "</table>\n",
       "</div>"
      ],
      "text/plain": [
       "                            JFK        LGA  Not Airpott\n",
       "Average Tip Percent %  16.85456  14.407436    14.360372"
      ]
     },
     "metadata": {},
     "output_type": "display_data"
    }
   ],
   "source": [
    "display(   pd.DataFrame(100*np.array(pickGroupsT.mean()['tipP']),index=['JFK','LGA','Not Airpott'],columns=['Average Tip Percent %']).T)"
   ]
  },
  {
   "cell_type": "markdown",
   "metadata": {},
   "source": [
    "JFK has a slightly higher (2.4%) average tip rate than other ares. LGA performs the same as Not airport trips"
   ]
  },
  {
   "cell_type": "markdown",
   "metadata": {},
   "source": [
    "Newark drops out here after data cleaning"
   ]
  },
  {
   "cell_type": "markdown",
   "metadata": {},
   "source": [
    "### Tip percentage v.s. DropZone"
   ]
  },
  {
   "cell_type": "code",
   "execution_count": 34,
   "metadata": {},
   "outputs": [
    {
     "data": {
      "text/html": [
       "<div>\n",
       "<style scoped>\n",
       "    .dataframe tbody tr th:only-of-type {\n",
       "        vertical-align: middle;\n",
       "    }\n",
       "\n",
       "    .dataframe tbody tr th {\n",
       "        vertical-align: top;\n",
       "    }\n",
       "\n",
       "    .dataframe thead th {\n",
       "        text-align: right;\n",
       "    }\n",
       "</style>\n",
       "<table border=\"1\" class=\"dataframe\">\n",
       "  <thead>\n",
       "    <tr style=\"text-align: right;\">\n",
       "      <th></th>\n",
       "      <th>EWR</th>\n",
       "      <th>JFK</th>\n",
       "      <th>LGA</th>\n",
       "      <th>Not Airpott</th>\n",
       "    </tr>\n",
       "  </thead>\n",
       "  <tbody>\n",
       "    <tr>\n",
       "      <th>Average Tip Percent %</th>\n",
       "      <td>15.804993</td>\n",
       "      <td>14.484399</td>\n",
       "      <td>15.417028</td>\n",
       "      <td>14.327738</td>\n",
       "    </tr>\n",
       "  </tbody>\n",
       "</table>\n",
       "</div>"
      ],
      "text/plain": [
       "                             EWR        JFK        LGA  Not Airpott\n",
       "Average Tip Percent %  15.804993  14.484399  15.417028    14.327738"
      ]
     },
     "metadata": {},
     "output_type": "display_data"
    }
   ],
   "source": [
    "dropGroupsT = dfTrain.groupby(['dropZone'])\n",
    "display(   pd.DataFrame(100*np.array(dropGroupsT.mean()['tipP']),index=['EWR','JFK','LGA','Not Airpott'],columns=['Average Tip Percent %']).T)"
   ]
  },
  {
   "cell_type": "markdown",
   "metadata": {},
   "source": [
    "For trips terminated at airports, they more or less shows the same tip percentage"
   ]
  },
  {
   "cell_type": "markdown",
   "metadata": {},
   "source": [
    "### Tip percentage v.s. pick hour"
   ]
  },
  {
   "cell_type": "code",
   "execution_count": 35,
   "metadata": {},
   "outputs": [
    {
     "data": {
      "text/html": [
       "<div>\n",
       "<style scoped>\n",
       "    .dataframe tbody tr th:only-of-type {\n",
       "        vertical-align: middle;\n",
       "    }\n",
       "\n",
       "    .dataframe tbody tr th {\n",
       "        vertical-align: top;\n",
       "    }\n",
       "\n",
       "    .dataframe thead th {\n",
       "        text-align: right;\n",
       "    }\n",
       "</style>\n",
       "<table border=\"1\" class=\"dataframe\">\n",
       "  <thead>\n",
       "    <tr style=\"text-align: right;\">\n",
       "      <th></th>\n",
       "      <th>0</th>\n",
       "      <th>1</th>\n",
       "      <th>2</th>\n",
       "      <th>3</th>\n",
       "      <th>4</th>\n",
       "      <th>5</th>\n",
       "      <th>6</th>\n",
       "      <th>7</th>\n",
       "      <th>8</th>\n",
       "      <th>9</th>\n",
       "      <th>10</th>\n",
       "      <th>11</th>\n",
       "      <th>12</th>\n",
       "      <th>13</th>\n",
       "      <th>14</th>\n",
       "      <th>15</th>\n",
       "      <th>16</th>\n",
       "      <th>17</th>\n",
       "      <th>18</th>\n",
       "      <th>19</th>\n",
       "      <th>20</th>\n",
       "      <th>21</th>\n",
       "      <th>22</th>\n",
       "      <th>23</th>\n",
       "    </tr>\n",
       "  </thead>\n",
       "  <tbody>\n",
       "    <tr>\n",
       "      <th>Average Tip Percent %</th>\n",
       "      <td>14.585226</td>\n",
       "      <td>14.477897</td>\n",
       "      <td>14.511658</td>\n",
       "      <td>14.249073</td>\n",
       "      <td>13.852118</td>\n",
       "      <td>13.812727</td>\n",
       "      <td>13.901986</td>\n",
       "      <td>13.882578</td>\n",
       "      <td>14.092005</td>\n",
       "      <td>14.40207</td>\n",
       "      <td>14.340772</td>\n",
       "      <td>14.314285</td>\n",
       "      <td>14.377037</td>\n",
       "      <td>14.340504</td>\n",
       "      <td>14.235048</td>\n",
       "      <td>14.224277</td>\n",
       "      <td>14.092467</td>\n",
       "      <td>14.137709</td>\n",
       "      <td>14.411313</td>\n",
       "      <td>14.518295</td>\n",
       "      <td>14.512049</td>\n",
       "      <td>14.606165</td>\n",
       "      <td>14.71148</td>\n",
       "      <td>14.494919</td>\n",
       "    </tr>\n",
       "  </tbody>\n",
       "</table>\n",
       "</div>"
      ],
      "text/plain": [
       "                              0          1          2          3          4   \\\n",
       "Average Tip Percent %  14.585226  14.477897  14.511658  14.249073  13.852118   \n",
       "\n",
       "                              5          6          7          8         9   \\\n",
       "Average Tip Percent %  13.812727  13.901986  13.882578  14.092005  14.40207   \n",
       "\n",
       "                              10         11         12         13         14  \\\n",
       "Average Tip Percent %  14.340772  14.314285  14.377037  14.340504  14.235048   \n",
       "\n",
       "                              15         16         17         18         19  \\\n",
       "Average Tip Percent %  14.224277  14.092467  14.137709  14.411313  14.518295   \n",
       "\n",
       "                              20         21        22         23  \n",
       "Average Tip Percent %  14.512049  14.606165  14.71148  14.494919  "
      ]
     },
     "metadata": {},
     "output_type": "display_data"
    }
   ],
   "source": [
    "hourGroupsT = dfTrain.groupby(['hour'])\n",
    "hours = np.arange(0,24,1)\n",
    "display(   pd.DataFrame(100*np.array(hourGroupsT.mean()['tipP']),index=hours,columns=['Average Tip Percent %']).T)"
   ]
  },
  {
   "cell_type": "markdown",
   "metadata": {},
   "source": [
    "No sprcial characteristic here"
   ]
  },
  {
   "cell_type": "markdown",
   "metadata": {},
   "source": [
    "### Tip percentage v.s. pick week day"
   ]
  },
  {
   "cell_type": "code",
   "execution_count": 36,
   "metadata": {},
   "outputs": [
    {
     "data": {
      "text/html": [
       "<div>\n",
       "<style scoped>\n",
       "    .dataframe tbody tr th:only-of-type {\n",
       "        vertical-align: middle;\n",
       "    }\n",
       "\n",
       "    .dataframe tbody tr th {\n",
       "        vertical-align: top;\n",
       "    }\n",
       "\n",
       "    .dataframe thead th {\n",
       "        text-align: right;\n",
       "    }\n",
       "</style>\n",
       "<table border=\"1\" class=\"dataframe\">\n",
       "  <thead>\n",
       "    <tr style=\"text-align: right;\">\n",
       "      <th></th>\n",
       "      <th>M</th>\n",
       "      <th>Tu</th>\n",
       "      <th>W</th>\n",
       "      <th>Th</th>\n",
       "      <th>Fri</th>\n",
       "      <th>Sa</th>\n",
       "      <th>Sun</th>\n",
       "    </tr>\n",
       "  </thead>\n",
       "  <tbody>\n",
       "    <tr>\n",
       "      <th>Average Tip Percent %</th>\n",
       "      <td>14.253898</td>\n",
       "      <td>14.380675</td>\n",
       "      <td>14.423141</td>\n",
       "      <td>14.481317</td>\n",
       "      <td>14.308252</td>\n",
       "      <td>14.331744</td>\n",
       "      <td>14.335977</td>\n",
       "    </tr>\n",
       "  </tbody>\n",
       "</table>\n",
       "</div>"
      ],
      "text/plain": [
       "                               M         Tu          W         Th        Fri  \\\n",
       "Average Tip Percent %  14.253898  14.380675  14.423141  14.481317  14.308252   \n",
       "\n",
       "                              Sa        Sun  \n",
       "Average Tip Percent %  14.331744  14.335977  "
      ]
     },
     "metadata": {},
     "output_type": "display_data"
    }
   ],
   "source": [
    "weekGroupsT = dfTrain.groupby(['pickW'])\n",
    "weeks = np.array(['M','Tu','W','Th','Fri','Sa','Sun'])\n",
    "display(   pd.DataFrame(100*np.array(weekGroupsT.mean()['tipP']),index=weeks,columns=['Average Tip Percent %']).T)"
   ]
  },
  {
   "cell_type": "markdown",
   "metadata": {},
   "source": [
    "No sprcial characteristic here as well"
   ]
  },
  {
   "cell_type": "markdown",
   "metadata": {},
   "source": [
    "### Predictive models "
   ]
  },
  {
   "cell_type": "markdown",
   "metadata": {},
   "source": [
    "Based on previous explorations, I propose two kinds of models.\n",
    "* Benchmark Model: A simple linear regression model using total amount as the predictor\n",
    "* Regression Decision trees and a regression random forest using total amount, pickZone (category), dropZone (category),pickhour (category), pick week day (category)"
   ]
  },
  {
   "cell_type": "markdown",
   "metadata": {},
   "source": [
    "### Benchmark: Simple Linear regression"
   ]
  },
  {
   "cell_type": "code",
   "execution_count": 37,
   "metadata": {},
   "outputs": [
    {
     "name": "stdout",
     "output_type": "stream",
     "text": [
      "In sample MSE: 0.004745083020598088\n",
      "Out sample MSE: 0.004744201692598821\n"
     ]
    }
   ],
   "source": [
    "from sklearn.linear_model import LinearRegression\n",
    "from sklearn.metrics import mean_squared_error\n",
    "\n",
    "# response tipP\n",
    "y = np.array(dfTrain['tipP']).reshape(nTrain,1)\n",
    "y_test = np.array(dfTest['tipP']).reshape(nTest,1)\n",
    "\n",
    "# a simple linear regression as benchmark\n",
    "x_SLR = np.array(dfTrain['Total_amount']).reshape(nTrain,1)\n",
    "x_SLR_test = np.array(dfTest['Total_amount']).reshape(nTest,1)\n",
    "\n",
    "reg = LinearRegression().fit(x_SLR,y)\n",
    "\n",
    "# pridicted y in sample\n",
    "y_SLR_P = reg.predict(x_SLR)\n",
    "\n",
    "# preditced y out sampe\n",
    "y_SLR_P_Test = reg.predict(x_SLR_test)\n",
    "\n",
    "# in sample MSE\n",
    "reg_inS = mean_squared_error(y,y_SLR_P)\n",
    "# out sample MSE\n",
    "reg_outS = mean_squared_error(y_test,y_SLR_P_Test)\n",
    "\n",
    "print(\"In sample MSE: {}\\nOut sample MSE: {}\".format(reg_inS,reg_outS))\n"
   ]
  },
  {
   "cell_type": "markdown",
   "metadata": {},
   "source": [
    "We have an average of ~ 0..005/0.2 = 2.5% relative in sample error. The out sample MSE stays very similar as the in sample MSE. We use this simple linear regression as our benchmark model"
   ]
  },
  {
   "cell_type": "markdown",
   "metadata": {},
   "source": [
    "### Decision Trees"
   ]
  },
  {
   "cell_type": "code",
   "execution_count": 38,
   "metadata": {},
   "outputs": [],
   "source": [
    "# encode category variables\n",
    "from sklearn import preprocessing\n",
    "\n",
    "# category transformers \n",
    "les = [preprocessing.LabelEncoder() for i in range(4)]\n",
    "categories = ['pickZone','dropZone','hour','pickW']\n",
    "\n",
    "for i, cat in enumerate(categories):\n",
    "    les[i].fit(dfTrain[cat])"
   ]
  },
  {
   "cell_type": "code",
   "execution_count": 39,
   "metadata": {},
   "outputs": [],
   "source": [
    "from sklearn import tree\n",
    "# begin to fit decision tree\n",
    "depths = [3,4,5]\n",
    "x_DT = np.array(list(le.transform(dfTrain[cat]) for le,cat in zip(les,categories))).T\n",
    "x_DT_test = np.array(list(le.transform(dfTest[cat]) for le,cat in zip(les,categories))).T\n",
    "\n",
    "DT_inS = []\n",
    "DT_outS = []\n",
    "\n",
    "for depth in depths:\n",
    "    dTree = tree.DecisionTreeRegressor(max_depth=depth)\n",
    "    dTree.fit(x_DT,y)\n",
    "    \n",
    "    # in sample prediction\n",
    "    y_DT_P = dTree.predict(x_DT)\n",
    "    # out sample prediction\n",
    "    y_DT_P_T = dTree.predict(x_DT_test)\n",
    "    \n",
    "    # record in sample MSE\n",
    "    DT_inS.append(mean_squared_error(y,y_DT_P))\n",
    "    # record out sample MSE\n",
    "    DT_outS.append(mean_squared_error(y_test,y_DT_P_T))"
   ]
  },
  {
   "cell_type": "code",
   "execution_count": 40,
   "metadata": {},
   "outputs": [
    {
     "data": {
      "text/html": [
       "<div>\n",
       "<style scoped>\n",
       "    .dataframe tbody tr th:only-of-type {\n",
       "        vertical-align: middle;\n",
       "    }\n",
       "\n",
       "    .dataframe tbody tr th {\n",
       "        vertical-align: top;\n",
       "    }\n",
       "\n",
       "    .dataframe thead th {\n",
       "        text-align: right;\n",
       "    }\n",
       "</style>\n",
       "<table border=\"1\" class=\"dataframe\">\n",
       "  <thead>\n",
       "    <tr style=\"text-align: right;\">\n",
       "      <th></th>\n",
       "      <th>depth 3</th>\n",
       "      <th>depth 4</th>\n",
       "      <th>depth 5</th>\n",
       "    </tr>\n",
       "  </thead>\n",
       "  <tbody>\n",
       "    <tr>\n",
       "      <th>in sample MSE</th>\n",
       "      <td>0.004754</td>\n",
       "      <td>0.004752</td>\n",
       "      <td>0.004749</td>\n",
       "    </tr>\n",
       "    <tr>\n",
       "      <th>out sample MSE</th>\n",
       "      <td>0.004753</td>\n",
       "      <td>0.004752</td>\n",
       "      <td>0.004751</td>\n",
       "    </tr>\n",
       "  </tbody>\n",
       "</table>\n",
       "</div>"
      ],
      "text/plain": [
       "                 depth 3   depth 4   depth 5\n",
       "in sample MSE   0.004754  0.004752  0.004749\n",
       "out sample MSE  0.004753  0.004752  0.004751"
      ]
     },
     "metadata": {},
     "output_type": "display_data"
    }
   ],
   "source": [
    "display(pd.DataFrame(np.array([DT_inS,DT_outS]),index = ['in sample MSE','out sample MSE'],columns=['depth 3','depth 4','depth 5']))"
   ]
  },
  {
   "cell_type": "markdown",
   "metadata": {},
   "source": [
    "we can see that all these decision trees do not perform better than our bench mark model. Try if random forest renders better results"
   ]
  },
  {
   "cell_type": "markdown",
   "metadata": {},
   "source": [
    "### Random Forest"
   ]
  },
  {
   "cell_type": "code",
   "execution_count": 41,
   "metadata": {},
   "outputs": [
    {
     "name": "stdout",
     "output_type": "stream",
     "text": [
      "In sample MSE: 0.0047479865420537665\n",
      "Out sample MSE: 0.004750067688409457\n"
     ]
    }
   ],
   "source": [
    "from sklearn.ensemble import RandomForestRegressor\n",
    "\n",
    "forest = RandomForestRegressor(max_depth=5,n_estimators=100)\n",
    "forest.fit(x_DT,np.ravel(y))\n",
    "\n",
    "# in sample prediction\n",
    "y_FR_P = forest.predict(x_DT)\n",
    "# out sample prediction\n",
    "y_FR_P_T = forest.predict(x_DT_test)\n",
    "\n",
    "# in sample MSE\n",
    "FR_inS = mean_squared_error(np.ravel(y),y_FR_P)\n",
    "# out sample MSE \n",
    "FR_outS = mean_squared_error(np.ravel(y_test),y_FR_P_T)\n",
    "\n",
    "print(\"In sample MSE: {}\\nOut sample MSE: {}\".format(FR_inS,FR_outS))"
   ]
  },
  {
   "cell_type": "markdown",
   "metadata": {},
   "source": [
    "The random forest model performs better than decision tree as expected."
   ]
  },
  {
   "cell_type": "markdown",
   "metadata": {},
   "source": [
    "### Model Comparison"
   ]
  },
  {
   "cell_type": "code",
   "execution_count": 42,
   "metadata": {},
   "outputs": [
    {
     "data": {
      "text/html": [
       "<div>\n",
       "<style scoped>\n",
       "    .dataframe tbody tr th:only-of-type {\n",
       "        vertical-align: middle;\n",
       "    }\n",
       "\n",
       "    .dataframe tbody tr th {\n",
       "        vertical-align: top;\n",
       "    }\n",
       "\n",
       "    .dataframe thead th {\n",
       "        text-align: right;\n",
       "    }\n",
       "</style>\n",
       "<table border=\"1\" class=\"dataframe\">\n",
       "  <thead>\n",
       "    <tr style=\"text-align: right;\">\n",
       "      <th></th>\n",
       "      <th>Simple Linear Regression (benchmark)</th>\n",
       "      <th>decistion tree depth 3</th>\n",
       "      <th>decision tree depth 4</th>\n",
       "      <th>decision tree depth 5</th>\n",
       "      <th>random forest</th>\n",
       "    </tr>\n",
       "  </thead>\n",
       "  <tbody>\n",
       "    <tr>\n",
       "      <th>in sample MSE</th>\n",
       "      <td>0.004745</td>\n",
       "      <td>0.004754</td>\n",
       "      <td>0.004752</td>\n",
       "      <td>0.004749</td>\n",
       "      <td>0.004748</td>\n",
       "    </tr>\n",
       "    <tr>\n",
       "      <th>out sample MSe</th>\n",
       "      <td>0.004744</td>\n",
       "      <td>0.004753</td>\n",
       "      <td>0.004752</td>\n",
       "      <td>0.004751</td>\n",
       "      <td>0.004750</td>\n",
       "    </tr>\n",
       "  </tbody>\n",
       "</table>\n",
       "</div>"
      ],
      "text/plain": [
       "                Simple Linear Regression (benchmark)  decistion tree depth 3  \\\n",
       "in sample MSE                               0.004745                0.004754   \n",
       "out sample MSe                              0.004744                0.004753   \n",
       "\n",
       "                decision tree depth 4  decision tree depth 5  random forest  \n",
       "in sample MSE                0.004752               0.004749       0.004748  \n",
       "out sample MSe               0.004752               0.004751       0.004750  "
      ]
     },
     "metadata": {},
     "output_type": "display_data"
    }
   ],
   "source": [
    "# put MSE togeter\n",
    "inS = [reg_inS]\n",
    "inS.extend(list(DT_inS))\n",
    "inS.append(FR_inS)\n",
    "\n",
    "outS = [reg_outS]\n",
    "outS.extend(list(DT_outS))\n",
    "outS.append(FR_outS)\n",
    "\n",
    "# report models summary\n",
    "display(pd.DataFrame([inS,outS],index=[\"in sample MSE\",\"out sample MSe\"],columns=['Simple Linear Regression (benchmark)','decistion tree depth 3',\n",
    "                                                                                 'decision tree depth 4','decision tree depth 5','random forest']))"
   ]
  },
  {
   "cell_type": "markdown",
   "metadata": {},
   "source": [
    "Tree based model with more features do not provide us more infomation than a simple linear regression. Therefore I believe the simple linear regression model is the best among those models."
   ]
  },
  {
   "cell_type": "markdown",
   "metadata": {},
   "source": [
    "## Question 5"
   ]
  },
  {
   "cell_type": "markdown",
   "metadata": {},
   "source": [
    "### Part C, Search"
   ]
  },
  {
   "cell_type": "markdown",
   "metadata": {},
   "source": [
    "* This question is essentially a twisted version of the original Lloyd's algorithm (K-means). In stead of perfoming poits finding the nearest centroid in the original version, we want the centroid (pick-up location) to find nearest points.\n",
    "* In my opinion, it's really hard if it is even possible to go faster than **O(n)** in time complexity, since we need to iterate over all of our observations, to determine the neares K points. I am going to implement a O(n) algorithm utilizing priority queue. Since I am using priority queue, the extra memory needed is just a array of K elements. \n",
    "* Although O(n) is the limit I believe for searching a data set, **O(logn)** can be possibly achived on the scale of data storage. For example, when the serve is not busy or the time when computing is cheap, we can perform K-means clustering on our whole data, and store each cluster with its centroid in leaves of a tree. When we choose a pick-up location, we iterate over all controids in leaves, find the nearest centroid, and read records from that leaf. If data in that leaf does not provide us enough observation, we read all data defined by its parent node.\n"
   ]
  },
  {
   "cell_type": "code",
   "execution_count": 52,
   "metadata": {},
   "outputs": [],
   "source": [
    "# converting longitude and latitude into distance \n",
    "# https://www.movable-type.co.uk/scripts/latlong.html\n",
    "'''\n",
    "@param: plo: pointLongitude, pla: pointLatitude \n",
    "        clo: centroid(pick-up location) Longitude, cla: centroid Latitude\n",
    "@return the distance between 2 points in \n",
    "'''\n",
    "import math\n",
    "\n",
    "def findDistance(plo,pla,clo,cla):\n",
    "    R = 6371 # earth's mean radius\n",
    "    delta_lo = plo - clo\n",
    "    delta_la = pla - cla\n",
    "    a = math.sin(delta_la/2)*math.sin(delta_la/2)  + math.cos(pla) * math.cos(cla)*math.sin(delta_lo/2)*math.sin(delta_lo/2)\n",
    "    c = 2* math.atan2(math.sqrt(a),math.sqrt(1-a))\n",
    "    d = R * c \n",
    "    return d\n",
    "\n"
   ]
  },
  {
   "cell_type": "code",
   "execution_count": 75,
   "metadata": {},
   "outputs": [],
   "source": [
    "from operator import itemgetter\n",
    "# function to search nearest k trips around pick-up location\n",
    "'''\n",
    "@param: k: the number of trip k to find\n",
    "        h: time limit, in which hour (eg, h=5 means all trip from 5:00:00 to 5:59:59)\n",
    "        clo: pick-up point longitude\n",
    "        cla: pick-up point latitude\n",
    "@return: a list of k elements, each elemtn is a tuple (index,distance)\n",
    "'''\n",
    "def findK(k,h,clo,cla):\n",
    "    # a linkedlist to store tuple (index,distance)\n",
    "    KN = []\n",
    "   \n",
    "    # add first k elments:\n",
    "    for i, row in df[:k].iterrows():\n",
    "        d = findDistance(row['Pickup_longitude'],row['Pickup_latitude'],clo,cla)\n",
    "        KN.append((i,d))\n",
    "    \n",
    "    # maxmuin distance\n",
    "    maxD = max(KN,key=itemgetter(1))\n",
    "    maxID = KN.index(maxD)\n",
    "    \n",
    "    # iterate over the rest \n",
    "    for j, row in df[k:].iterrows():\n",
    "        d = findDistance(row['Pickup_longitude'],row['Pickup_latitude'],clo,cla)\n",
    "        # smallest than the largest, and time matches\n",
    "        if d < maxD[1] and int(row['pickTime'].split(\":\")[0])==h:\n",
    "            KN[maxID] = ((j,d))\n",
    "            maxD = max(KN,key=itemgetter(1))\n",
    "            maxID = KN.index(maxD)\n",
    "    return KN\n",
    "        \n",
    "    \n",
    "    \n",
    "    "
   ]
  },
  {
   "cell_type": "markdown",
   "metadata": {},
   "source": [
    "### Example:\n",
    "Find 10 nearest trip between 19:00:00 to 19:59:59 around (-73.98,40.738)"
   ]
  },
  {
   "cell_type": "code",
   "execution_count": 76,
   "metadata": {},
   "outputs": [],
   "source": [
    "KN = findK(10,19,-73.98,40.738)"
   ]
  },
  {
   "cell_type": "code",
   "execution_count": 78,
   "metadata": {},
   "outputs": [
    {
     "data": {
      "text/html": [
       "<div>\n",
       "<style scoped>\n",
       "    .dataframe tbody tr th:only-of-type {\n",
       "        vertical-align: middle;\n",
       "    }\n",
       "\n",
       "    .dataframe tbody tr th {\n",
       "        vertical-align: top;\n",
       "    }\n",
       "\n",
       "    .dataframe thead th {\n",
       "        text-align: right;\n",
       "    }\n",
       "</style>\n",
       "<table border=\"1\" class=\"dataframe\">\n",
       "  <thead>\n",
       "    <tr style=\"text-align: right;\">\n",
       "      <th></th>\n",
       "      <th>Store_and_fwd_flag</th>\n",
       "      <th>RateCodeID</th>\n",
       "      <th>Pickup_longitude</th>\n",
       "      <th>Pickup_latitude</th>\n",
       "      <th>Dropoff_longitude</th>\n",
       "      <th>Dropoff_latitude</th>\n",
       "      <th>Passenger_count</th>\n",
       "      <th>Trip_distance</th>\n",
       "      <th>Fare_amount</th>\n",
       "      <th>Extra</th>\n",
       "      <th>MTA_tax</th>\n",
       "      <th>Tip_amount</th>\n",
       "      <th>Tolls_amount</th>\n",
       "      <th>Ehail_fee</th>\n",
       "      <th>improvement_surcharge</th>\n",
       "      <th>Total_amount</th>\n",
       "      <th>Payment_type</th>\n",
       "      <th>Trip_type</th>\n",
       "      <th>pickTime</th>\n",
       "      <th>pickDate</th>\n",
       "      <th>dropTime</th>\n",
       "      <th>dropDate</th>\n",
       "      <th>pickW</th>\n",
       "      <th>dropW</th>\n",
       "      <th>hour</th>\n",
       "      <th>pickZone</th>\n",
       "      <th>dropZone</th>\n",
       "    </tr>\n",
       "  </thead>\n",
       "  <tbody>\n",
       "    <tr>\n",
       "      <th>287016</th>\n",
       "      <td>N</td>\n",
       "      <td>1</td>\n",
       "      <td>-73.960030</td>\n",
       "      <td>40.742512</td>\n",
       "      <td>-73.942284</td>\n",
       "      <td>40.748692</td>\n",
       "      <td>4</td>\n",
       "      <td>1.30</td>\n",
       "      <td>7.0</td>\n",
       "      <td>0.0</td>\n",
       "      <td>0.5</td>\n",
       "      <td>1.95</td>\n",
       "      <td>0.00</td>\n",
       "      <td>NaN</td>\n",
       "      <td>0.3</td>\n",
       "      <td>9.75</td>\n",
       "      <td>1</td>\n",
       "      <td>1.0</td>\n",
       "      <td>19:37:43</td>\n",
       "      <td>2015-09-06</td>\n",
       "      <td>19:45:09</td>\n",
       "      <td>2015-09-06</td>\n",
       "      <td>Sunday</td>\n",
       "      <td>Sunday</td>\n",
       "      <td>19</td>\n",
       "      <td>N</td>\n",
       "      <td>N</td>\n",
       "    </tr>\n",
       "    <tr>\n",
       "      <th>230315</th>\n",
       "      <td>N</td>\n",
       "      <td>1</td>\n",
       "      <td>-73.959946</td>\n",
       "      <td>40.742794</td>\n",
       "      <td>-73.914864</td>\n",
       "      <td>40.749069</td>\n",
       "      <td>2</td>\n",
       "      <td>3.15</td>\n",
       "      <td>11.5</td>\n",
       "      <td>0.0</td>\n",
       "      <td>0.5</td>\n",
       "      <td>3.08</td>\n",
       "      <td>0.00</td>\n",
       "      <td>NaN</td>\n",
       "      <td>0.3</td>\n",
       "      <td>15.38</td>\n",
       "      <td>1</td>\n",
       "      <td>1.0</td>\n",
       "      <td>19:56:23</td>\n",
       "      <td>2015-09-05</td>\n",
       "      <td>20:07:31</td>\n",
       "      <td>2015-09-05</td>\n",
       "      <td>Saturday</td>\n",
       "      <td>Saturday</td>\n",
       "      <td>19</td>\n",
       "      <td>N</td>\n",
       "      <td>N</td>\n",
       "    </tr>\n",
       "    <tr>\n",
       "      <th>590641</th>\n",
       "      <td>N</td>\n",
       "      <td>1</td>\n",
       "      <td>-73.959763</td>\n",
       "      <td>40.733265</td>\n",
       "      <td>-73.996368</td>\n",
       "      <td>40.744434</td>\n",
       "      <td>1</td>\n",
       "      <td>6.60</td>\n",
       "      <td>29.0</td>\n",
       "      <td>0.0</td>\n",
       "      <td>0.5</td>\n",
       "      <td>1.00</td>\n",
       "      <td>0.00</td>\n",
       "      <td>NaN</td>\n",
       "      <td>0.3</td>\n",
       "      <td>30.80</td>\n",
       "      <td>1</td>\n",
       "      <td>1.0</td>\n",
       "      <td>19:44:08</td>\n",
       "      <td>2015-09-12</td>\n",
       "      <td>20:23:42</td>\n",
       "      <td>2015-09-12</td>\n",
       "      <td>Saturday</td>\n",
       "      <td>Saturday</td>\n",
       "      <td>19</td>\n",
       "      <td>N</td>\n",
       "      <td>N</td>\n",
       "    </tr>\n",
       "    <tr>\n",
       "      <th>469988</th>\n",
       "      <td>N</td>\n",
       "      <td>1</td>\n",
       "      <td>-73.960510</td>\n",
       "      <td>40.732475</td>\n",
       "      <td>-73.967575</td>\n",
       "      <td>40.696831</td>\n",
       "      <td>1</td>\n",
       "      <td>3.56</td>\n",
       "      <td>16.0</td>\n",
       "      <td>1.0</td>\n",
       "      <td>0.5</td>\n",
       "      <td>3.56</td>\n",
       "      <td>0.00</td>\n",
       "      <td>NaN</td>\n",
       "      <td>0.3</td>\n",
       "      <td>21.36</td>\n",
       "      <td>1</td>\n",
       "      <td>1.0</td>\n",
       "      <td>19:28:27</td>\n",
       "      <td>2015-09-10</td>\n",
       "      <td>19:50:39</td>\n",
       "      <td>2015-09-10</td>\n",
       "      <td>Thursday</td>\n",
       "      <td>Thursday</td>\n",
       "      <td>19</td>\n",
       "      <td>N</td>\n",
       "      <td>N</td>\n",
       "    </tr>\n",
       "    <tr>\n",
       "      <th>228445</th>\n",
       "      <td>N</td>\n",
       "      <td>1</td>\n",
       "      <td>-73.961281</td>\n",
       "      <td>40.731670</td>\n",
       "      <td>-73.947456</td>\n",
       "      <td>40.724854</td>\n",
       "      <td>1</td>\n",
       "      <td>1.12</td>\n",
       "      <td>6.5</td>\n",
       "      <td>0.0</td>\n",
       "      <td>0.5</td>\n",
       "      <td>2.19</td>\n",
       "      <td>0.00</td>\n",
       "      <td>NaN</td>\n",
       "      <td>0.3</td>\n",
       "      <td>9.49</td>\n",
       "      <td>1</td>\n",
       "      <td>1.0</td>\n",
       "      <td>19:19:10</td>\n",
       "      <td>2015-09-05</td>\n",
       "      <td>19:25:54</td>\n",
       "      <td>2015-09-05</td>\n",
       "      <td>Saturday</td>\n",
       "      <td>Saturday</td>\n",
       "      <td>19</td>\n",
       "      <td>N</td>\n",
       "      <td>N</td>\n",
       "    </tr>\n",
       "    <tr>\n",
       "      <th>1177918</th>\n",
       "      <td>N</td>\n",
       "      <td>1</td>\n",
       "      <td>-73.959969</td>\n",
       "      <td>40.742508</td>\n",
       "      <td>-73.912285</td>\n",
       "      <td>40.753696</td>\n",
       "      <td>6</td>\n",
       "      <td>2.82</td>\n",
       "      <td>28.0</td>\n",
       "      <td>1.0</td>\n",
       "      <td>0.5</td>\n",
       "      <td>0.00</td>\n",
       "      <td>0.00</td>\n",
       "      <td>NaN</td>\n",
       "      <td>0.3</td>\n",
       "      <td>29.80</td>\n",
       "      <td>2</td>\n",
       "      <td>1.0</td>\n",
       "      <td>19:39:32</td>\n",
       "      <td>2015-09-24</td>\n",
       "      <td>20:24:23</td>\n",
       "      <td>2015-09-24</td>\n",
       "      <td>Thursday</td>\n",
       "      <td>Thursday</td>\n",
       "      <td>19</td>\n",
       "      <td>N</td>\n",
       "      <td>N</td>\n",
       "    </tr>\n",
       "    <tr>\n",
       "      <th>471635</th>\n",
       "      <td>N</td>\n",
       "      <td>1</td>\n",
       "      <td>-73.959961</td>\n",
       "      <td>40.742294</td>\n",
       "      <td>-73.927734</td>\n",
       "      <td>40.763058</td>\n",
       "      <td>1</td>\n",
       "      <td>3.00</td>\n",
       "      <td>11.5</td>\n",
       "      <td>1.0</td>\n",
       "      <td>0.5</td>\n",
       "      <td>0.00</td>\n",
       "      <td>0.00</td>\n",
       "      <td>NaN</td>\n",
       "      <td>0.3</td>\n",
       "      <td>13.30</td>\n",
       "      <td>2</td>\n",
       "      <td>1.0</td>\n",
       "      <td>19:18:25</td>\n",
       "      <td>2015-09-10</td>\n",
       "      <td>19:30:32</td>\n",
       "      <td>2015-09-10</td>\n",
       "      <td>Thursday</td>\n",
       "      <td>Thursday</td>\n",
       "      <td>19</td>\n",
       "      <td>N</td>\n",
       "      <td>N</td>\n",
       "    </tr>\n",
       "    <tr>\n",
       "      <th>1396415</th>\n",
       "      <td>N</td>\n",
       "      <td>1</td>\n",
       "      <td>-73.959908</td>\n",
       "      <td>40.742371</td>\n",
       "      <td>-73.975189</td>\n",
       "      <td>40.741413</td>\n",
       "      <td>1</td>\n",
       "      <td>2.60</td>\n",
       "      <td>11.5</td>\n",
       "      <td>1.0</td>\n",
       "      <td>0.5</td>\n",
       "      <td>3.75</td>\n",
       "      <td>5.54</td>\n",
       "      <td>NaN</td>\n",
       "      <td>0.3</td>\n",
       "      <td>22.59</td>\n",
       "      <td>1</td>\n",
       "      <td>1.0</td>\n",
       "      <td>19:22:29</td>\n",
       "      <td>2015-09-28</td>\n",
       "      <td>19:36:37</td>\n",
       "      <td>2015-09-28</td>\n",
       "      <td>Monday</td>\n",
       "      <td>Monday</td>\n",
       "      <td>19</td>\n",
       "      <td>N</td>\n",
       "      <td>N</td>\n",
       "    </tr>\n",
       "    <tr>\n",
       "      <th>523795</th>\n",
       "      <td>N</td>\n",
       "      <td>1</td>\n",
       "      <td>-73.959991</td>\n",
       "      <td>40.742523</td>\n",
       "      <td>-73.927902</td>\n",
       "      <td>40.763142</td>\n",
       "      <td>1</td>\n",
       "      <td>2.98</td>\n",
       "      <td>12.5</td>\n",
       "      <td>1.0</td>\n",
       "      <td>0.5</td>\n",
       "      <td>2.86</td>\n",
       "      <td>0.00</td>\n",
       "      <td>NaN</td>\n",
       "      <td>0.3</td>\n",
       "      <td>17.16</td>\n",
       "      <td>1</td>\n",
       "      <td>1.0</td>\n",
       "      <td>19:57:03</td>\n",
       "      <td>2015-09-11</td>\n",
       "      <td>20:11:42</td>\n",
       "      <td>2015-09-11</td>\n",
       "      <td>Friday</td>\n",
       "      <td>Friday</td>\n",
       "      <td>19</td>\n",
       "      <td>N</td>\n",
       "      <td>N</td>\n",
       "    </tr>\n",
       "    <tr>\n",
       "      <th>1352858</th>\n",
       "      <td>N</td>\n",
       "      <td>1</td>\n",
       "      <td>-73.959969</td>\n",
       "      <td>40.742561</td>\n",
       "      <td>-73.944321</td>\n",
       "      <td>40.748959</td>\n",
       "      <td>1</td>\n",
       "      <td>1.50</td>\n",
       "      <td>9.0</td>\n",
       "      <td>0.0</td>\n",
       "      <td>0.5</td>\n",
       "      <td>1.95</td>\n",
       "      <td>0.00</td>\n",
       "      <td>NaN</td>\n",
       "      <td>0.3</td>\n",
       "      <td>11.75</td>\n",
       "      <td>1</td>\n",
       "      <td>1.0</td>\n",
       "      <td>19:52:33</td>\n",
       "      <td>2015-09-27</td>\n",
       "      <td>20:03:54</td>\n",
       "      <td>2015-09-27</td>\n",
       "      <td>Sunday</td>\n",
       "      <td>Sunday</td>\n",
       "      <td>19</td>\n",
       "      <td>N</td>\n",
       "      <td>N</td>\n",
       "    </tr>\n",
       "  </tbody>\n",
       "</table>\n",
       "</div>"
      ],
      "text/plain": [
       "        Store_and_fwd_flag  RateCodeID  Pickup_longitude  Pickup_latitude  \\\n",
       "287016                   N           1        -73.960030        40.742512   \n",
       "230315                   N           1        -73.959946        40.742794   \n",
       "590641                   N           1        -73.959763        40.733265   \n",
       "469988                   N           1        -73.960510        40.732475   \n",
       "228445                   N           1        -73.961281        40.731670   \n",
       "1177918                  N           1        -73.959969        40.742508   \n",
       "471635                   N           1        -73.959961        40.742294   \n",
       "1396415                  N           1        -73.959908        40.742371   \n",
       "523795                   N           1        -73.959991        40.742523   \n",
       "1352858                  N           1        -73.959969        40.742561   \n",
       "\n",
       "         Dropoff_longitude  Dropoff_latitude  Passenger_count  Trip_distance  \\\n",
       "287016          -73.942284         40.748692                4           1.30   \n",
       "230315          -73.914864         40.749069                2           3.15   \n",
       "590641          -73.996368         40.744434                1           6.60   \n",
       "469988          -73.967575         40.696831                1           3.56   \n",
       "228445          -73.947456         40.724854                1           1.12   \n",
       "1177918         -73.912285         40.753696                6           2.82   \n",
       "471635          -73.927734         40.763058                1           3.00   \n",
       "1396415         -73.975189         40.741413                1           2.60   \n",
       "523795          -73.927902         40.763142                1           2.98   \n",
       "1352858         -73.944321         40.748959                1           1.50   \n",
       "\n",
       "         Fare_amount  Extra  MTA_tax  Tip_amount  Tolls_amount  Ehail_fee  \\\n",
       "287016           7.0    0.0      0.5        1.95          0.00        NaN   \n",
       "230315          11.5    0.0      0.5        3.08          0.00        NaN   \n",
       "590641          29.0    0.0      0.5        1.00          0.00        NaN   \n",
       "469988          16.0    1.0      0.5        3.56          0.00        NaN   \n",
       "228445           6.5    0.0      0.5        2.19          0.00        NaN   \n",
       "1177918         28.0    1.0      0.5        0.00          0.00        NaN   \n",
       "471635          11.5    1.0      0.5        0.00          0.00        NaN   \n",
       "1396415         11.5    1.0      0.5        3.75          5.54        NaN   \n",
       "523795          12.5    1.0      0.5        2.86          0.00        NaN   \n",
       "1352858          9.0    0.0      0.5        1.95          0.00        NaN   \n",
       "\n",
       "         improvement_surcharge  Total_amount  Payment_type  Trip_type   \\\n",
       "287016                     0.3          9.75             1         1.0   \n",
       "230315                     0.3         15.38             1         1.0   \n",
       "590641                     0.3         30.80             1         1.0   \n",
       "469988                     0.3         21.36             1         1.0   \n",
       "228445                     0.3          9.49             1         1.0   \n",
       "1177918                    0.3         29.80             2         1.0   \n",
       "471635                     0.3         13.30             2         1.0   \n",
       "1396415                    0.3         22.59             1         1.0   \n",
       "523795                     0.3         17.16             1         1.0   \n",
       "1352858                    0.3         11.75             1         1.0   \n",
       "\n",
       "         pickTime    pickDate  dropTime    dropDate     pickW     dropW hour  \\\n",
       "287016   19:37:43  2015-09-06  19:45:09  2015-09-06    Sunday    Sunday   19   \n",
       "230315   19:56:23  2015-09-05  20:07:31  2015-09-05  Saturday  Saturday   19   \n",
       "590641   19:44:08  2015-09-12  20:23:42  2015-09-12  Saturday  Saturday   19   \n",
       "469988   19:28:27  2015-09-10  19:50:39  2015-09-10  Thursday  Thursday   19   \n",
       "228445   19:19:10  2015-09-05  19:25:54  2015-09-05  Saturday  Saturday   19   \n",
       "1177918  19:39:32  2015-09-24  20:24:23  2015-09-24  Thursday  Thursday   19   \n",
       "471635   19:18:25  2015-09-10  19:30:32  2015-09-10  Thursday  Thursday   19   \n",
       "1396415  19:22:29  2015-09-28  19:36:37  2015-09-28    Monday    Monday   19   \n",
       "523795   19:57:03  2015-09-11  20:11:42  2015-09-11    Friday    Friday   19   \n",
       "1352858  19:52:33  2015-09-27  20:03:54  2015-09-27    Sunday    Sunday   19   \n",
       "\n",
       "        pickZone dropZone  \n",
       "287016         N        N  \n",
       "230315         N        N  \n",
       "590641         N        N  \n",
       "469988         N        N  \n",
       "228445         N        N  \n",
       "1177918        N        N  \n",
       "471635         N        N  \n",
       "1396415        N        N  \n",
       "523795         N        N  \n",
       "1352858        N        N  "
      ]
     },
     "metadata": {},
     "output_type": "display_data"
    }
   ],
   "source": [
    "display(df.iloc[list(map(lambda x:x[0],KN)),:])"
   ]
  }
 ],
 "metadata": {
  "kernelspec": {
   "display_name": "Python 3",
   "language": "python",
   "name": "python3"
  },
  "language_info": {
   "codemirror_mode": {
    "name": "ipython",
    "version": 3
   },
   "file_extension": ".py",
   "mimetype": "text/x-python",
   "name": "python",
   "nbconvert_exporter": "python",
   "pygments_lexer": "ipython3",
   "version": "3.7.1"
  }
 },
 "nbformat": 4,
 "nbformat_minor": 2
}
